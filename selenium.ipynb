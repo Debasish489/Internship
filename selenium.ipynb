{
 "cells": [
  {
   "cell_type": "code",
   "execution_count": 1,
   "id": "01f04cce",
   "metadata": {},
   "outputs": [
    {
     "name": "stdout",
     "output_type": "stream",
     "text": [
      "Requirement already satisfied: selenium in c:\\users\\swastika\\anaconda3\\lib\\site-packages (4.8.0)\n",
      "Requirement already satisfied: trio~=0.17 in c:\\users\\swastika\\anaconda3\\lib\\site-packages (from selenium) (0.22.0)\n",
      "Requirement already satisfied: urllib3[socks]~=1.26 in c:\\users\\swastika\\anaconda3\\lib\\site-packages (from selenium) (1.26.9)\n",
      "Requirement already satisfied: certifi>=2021.10.8 in c:\\users\\swastika\\anaconda3\\lib\\site-packages (from selenium) (2021.10.8)\n",
      "Requirement already satisfied: trio-websocket~=0.9 in c:\\users\\swastika\\anaconda3\\lib\\site-packages (from selenium) (0.9.2)\n",
      "Requirement already satisfied: async-generator>=1.9 in c:\\users\\swastika\\anaconda3\\lib\\site-packages (from trio~=0.17->selenium) (1.10)\n",
      "Requirement already satisfied: sortedcontainers in c:\\users\\swastika\\anaconda3\\lib\\site-packages (from trio~=0.17->selenium) (2.4.0)\n",
      "Requirement already satisfied: outcome in c:\\users\\swastika\\anaconda3\\lib\\site-packages (from trio~=0.17->selenium) (1.2.0)\n",
      "Requirement already satisfied: cffi>=1.14 in c:\\users\\swastika\\anaconda3\\lib\\site-packages (from trio~=0.17->selenium) (1.15.0)\n",
      "Requirement already satisfied: exceptiongroup>=1.0.0rc9 in c:\\users\\swastika\\anaconda3\\lib\\site-packages (from trio~=0.17->selenium) (1.1.0)\n",
      "Requirement already satisfied: attrs>=19.2.0 in c:\\users\\swastika\\anaconda3\\lib\\site-packages (from trio~=0.17->selenium) (21.4.0)\n",
      "Requirement already satisfied: sniffio in c:\\users\\swastika\\anaconda3\\lib\\site-packages (from trio~=0.17->selenium) (1.2.0)\n",
      "Requirement already satisfied: idna in c:\\users\\swastika\\anaconda3\\lib\\site-packages (from trio~=0.17->selenium) (3.3)\n",
      "Requirement already satisfied: pycparser in c:\\users\\swastika\\anaconda3\\lib\\site-packages (from cffi>=1.14->trio~=0.17->selenium) (2.21)\n",
      "Requirement already satisfied: wsproto>=0.14 in c:\\users\\swastika\\anaconda3\\lib\\site-packages (from trio-websocket~=0.9->selenium) (1.2.0)\n",
      "Requirement already satisfied: PySocks!=1.5.7,<2.0,>=1.5.6 in c:\\users\\swastika\\anaconda3\\lib\\site-packages (from urllib3[socks]~=1.26->selenium) (1.7.1)\n",
      "Requirement already satisfied: h11<1,>=0.9.0 in c:\\users\\swastika\\anaconda3\\lib\\site-packages (from wsproto>=0.14->trio-websocket~=0.9->selenium) (0.14.0)\n"
     ]
    }
   ],
   "source": [
    "!pip install selenium"
   ]
  },
  {
   "cell_type": "code",
   "execution_count": 2,
   "id": "6e931d24",
   "metadata": {},
   "outputs": [],
   "source": [
    "import selenium\n",
    "import pandas as pd\n",
    "from selenium import webdriver\n",
    "import warnings\n",
    "warnings.filterwarnings('ignore')\n",
    "from selenium.webdriver.common.by import By\n",
    "import time"
   ]
  },
  {
   "cell_type": "markdown",
   "id": "ef4b078e",
   "metadata": {},
   "source": [
    "Question No : 1"
   ]
  },
  {
   "cell_type": "code",
   "execution_count": 49,
   "id": "0fe23fff",
   "metadata": {},
   "outputs": [],
   "source": [
    "driver=webdriver.Chrome(r\"C:\\Users\\SWASTIKA\\chromedriver_win32.zip\\chromedriver.exe\")"
   ]
  },
  {
   "cell_type": "code",
   "execution_count": 50,
   "id": "0f304eb0",
   "metadata": {},
   "outputs": [],
   "source": [
    "driver.get(\"https://www.naukri.com/\")"
   ]
  },
  {
   "cell_type": "code",
   "execution_count": 51,
   "id": "258816b3",
   "metadata": {},
   "outputs": [],
   "source": [
    "skill=driver.find_element(By.CLASS_NAME,\"suggestor-input \")\n",
    "skill.send_keys(\"Data Analyst\")\n"
   ]
  },
  {
   "cell_type": "code",
   "execution_count": 52,
   "id": "c0b327ce",
   "metadata": {},
   "outputs": [],
   "source": [
    "location=driver.find_element(By.XPATH,\"/html/body/div[1]/div[6]/div/div/div[5]/div/div/div/input\")\n",
    "location.send_keys(\"Bangalore\")"
   ]
  },
  {
   "cell_type": "code",
   "execution_count": 53,
   "id": "80bd22d4",
   "metadata": {},
   "outputs": [],
   "source": [
    "search=driver.find_element(By.CLASS_NAME,\"qsbSubmit\")\n",
    "search.click()"
   ]
  },
  {
   "cell_type": "code",
   "execution_count": 54,
   "id": "1eebfd73",
   "metadata": {},
   "outputs": [],
   "source": [
    "job_title=[]\n",
    "job_location=[]\n",
    "company_name=[]\n",
    "experience_required=[]"
   ]
  },
  {
   "cell_type": "code",
   "execution_count": 55,
   "id": "18a5374f",
   "metadata": {},
   "outputs": [],
   "source": [
    "title_tag=driver.find_elements(By.XPATH,'//a[@class=\"title ellipsis\"]')\n",
    "for i in title_tag[:10]:\n",
    "    title=i.text\n",
    "    job_title.append(title)"
   ]
  },
  {
   "cell_type": "code",
   "execution_count": 56,
   "id": "8c77a773",
   "metadata": {},
   "outputs": [],
   "source": [
    "location_tag=driver.find_elements(By.XPATH,'//span[@class=\"ellipsis fleft locWdth\"]')\n",
    "for i in location_tag[:10]:\n",
    "    location=i.text\n",
    "    job_location.append(location)\n",
    "    \n",
    "company_tag=driver.find_elements(By.XPATH,'//a[@class=\"subTitle ellipsis fleft\"]')\n",
    "for i in company_tag[:10]:\n",
    "    company=i.text\n",
    "    company_name.append(company)\n",
    "\n",
    "experience_tag=driver.find_elements(By.XPATH,'//span[@class=\"ellipsis fleft expwdth\"]')\n",
    "for i in experience_tag[:10]:\n",
    "    exp=i.text\n",
    "    experience_required.append(exp)"
   ]
  },
  {
   "cell_type": "code",
   "execution_count": 57,
   "id": "5b36776c",
   "metadata": {},
   "outputs": [
    {
     "name": "stdout",
     "output_type": "stream",
     "text": [
      "10 10 10 10\n"
     ]
    }
   ],
   "source": [
    "print(len(job_title),len(job_location),len(company_name),len(experience_required))"
   ]
  },
  {
   "cell_type": "code",
   "execution_count": 58,
   "id": "df4a1816",
   "metadata": {},
   "outputs": [
    {
     "data": {
      "text/html": [
       "<div>\n",
       "<style scoped>\n",
       "    .dataframe tbody tr th:only-of-type {\n",
       "        vertical-align: middle;\n",
       "    }\n",
       "\n",
       "    .dataframe tbody tr th {\n",
       "        vertical-align: top;\n",
       "    }\n",
       "\n",
       "    .dataframe thead th {\n",
       "        text-align: right;\n",
       "    }\n",
       "</style>\n",
       "<table border=\"1\" class=\"dataframe\">\n",
       "  <thead>\n",
       "    <tr style=\"text-align: right;\">\n",
       "      <th></th>\n",
       "      <th>Title</th>\n",
       "      <th>Location</th>\n",
       "      <th>Company</th>\n",
       "      <th>Experience</th>\n",
       "    </tr>\n",
       "  </thead>\n",
       "  <tbody>\n",
       "    <tr>\n",
       "      <th>0</th>\n",
       "      <td>Data Analyst- Yulu Energy</td>\n",
       "      <td>Bangalore/Bengaluru</td>\n",
       "      <td>Yulu Bikes</td>\n",
       "      <td>0-1 Yrs</td>\n",
       "    </tr>\n",
       "    <tr>\n",
       "      <th>1</th>\n",
       "      <td>Data Analyst</td>\n",
       "      <td>Hybrid - Bangalore/Bengaluru, Hyderabad/Secund...</td>\n",
       "      <td>EY</td>\n",
       "      <td>5-10 Yrs</td>\n",
       "    </tr>\n",
       "    <tr>\n",
       "      <th>2</th>\n",
       "      <td>Data Analyst - Pharma/hls Domain (4-9 Years)</td>\n",
       "      <td>Bangalore/Bengaluru, Mumbai, Pune, Gurgaon/Gur...</td>\n",
       "      <td>Fractal Analytics</td>\n",
       "      <td>10-20 Yrs</td>\n",
       "    </tr>\n",
       "    <tr>\n",
       "      <th>3</th>\n",
       "      <td>Data Analyst</td>\n",
       "      <td>Hybrid - Bangalore/Bengaluru</td>\n",
       "      <td>Allegis Group</td>\n",
       "      <td>4-7 Yrs</td>\n",
       "    </tr>\n",
       "    <tr>\n",
       "      <th>4</th>\n",
       "      <td>Data Analyst</td>\n",
       "      <td>Bangalore/Bengaluru</td>\n",
       "      <td>Entrupy</td>\n",
       "      <td>1-3 Yrs</td>\n",
       "    </tr>\n",
       "    <tr>\n",
       "      <th>5</th>\n",
       "      <td>Data Analyst</td>\n",
       "      <td>Bangalore/Bengaluru</td>\n",
       "      <td>Staffice Global</td>\n",
       "      <td>14-18 Yrs</td>\n",
       "    </tr>\n",
       "    <tr>\n",
       "      <th>6</th>\n",
       "      <td>Data Analyst</td>\n",
       "      <td>Bangalore/Bengaluru</td>\n",
       "      <td>What Digital Technologies</td>\n",
       "      <td>5-10 Yrs</td>\n",
       "    </tr>\n",
       "    <tr>\n",
       "      <th>7</th>\n",
       "      <td>Data Analyst</td>\n",
       "      <td>Bangalore/Bengaluru</td>\n",
       "      <td>FresherMart</td>\n",
       "      <td>2-3 Yrs</td>\n",
       "    </tr>\n",
       "    <tr>\n",
       "      <th>8</th>\n",
       "      <td>Data Analyst Databricks</td>\n",
       "      <td>Bangalore/Bengaluru</td>\n",
       "      <td>Optum</td>\n",
       "      <td>4-6 Yrs</td>\n",
       "    </tr>\n",
       "    <tr>\n",
       "      <th>9</th>\n",
       "      <td>Data Analyst</td>\n",
       "      <td>Bangalore/Bengaluru</td>\n",
       "      <td>Siemens</td>\n",
       "      <td>1-4 Yrs</td>\n",
       "    </tr>\n",
       "  </tbody>\n",
       "</table>\n",
       "</div>"
      ],
      "text/plain": [
       "                                          Title  \\\n",
       "0                     Data Analyst- Yulu Energy   \n",
       "1                                  Data Analyst   \n",
       "2  Data Analyst - Pharma/hls Domain (4-9 Years)   \n",
       "3                                  Data Analyst   \n",
       "4                                  Data Analyst   \n",
       "5                                  Data Analyst   \n",
       "6                                  Data Analyst   \n",
       "7                                  Data Analyst   \n",
       "8                       Data Analyst Databricks   \n",
       "9                                  Data Analyst   \n",
       "\n",
       "                                            Location  \\\n",
       "0                                Bangalore/Bengaluru   \n",
       "1  Hybrid - Bangalore/Bengaluru, Hyderabad/Secund...   \n",
       "2  Bangalore/Bengaluru, Mumbai, Pune, Gurgaon/Gur...   \n",
       "3                       Hybrid - Bangalore/Bengaluru   \n",
       "4                                Bangalore/Bengaluru   \n",
       "5                                Bangalore/Bengaluru   \n",
       "6                                Bangalore/Bengaluru   \n",
       "7                                Bangalore/Bengaluru   \n",
       "8                                Bangalore/Bengaluru   \n",
       "9                                Bangalore/Bengaluru   \n",
       "\n",
       "                     Company Experience  \n",
       "0                 Yulu Bikes    0-1 Yrs  \n",
       "1                         EY   5-10 Yrs  \n",
       "2          Fractal Analytics  10-20 Yrs  \n",
       "3              Allegis Group    4-7 Yrs  \n",
       "4                    Entrupy    1-3 Yrs  \n",
       "5            Staffice Global  14-18 Yrs  \n",
       "6  What Digital Technologies   5-10 Yrs  \n",
       "7                FresherMart    2-3 Yrs  \n",
       "8                      Optum    4-6 Yrs  \n",
       "9                    Siemens    1-4 Yrs  "
      ]
     },
     "execution_count": 58,
     "metadata": {},
     "output_type": "execute_result"
    }
   ],
   "source": [
    "df=pd.DataFrame({'Title':job_title,'Location':job_location,'Company':company_name,'Experience':experience_required})\n",
    "df"
   ]
  },
  {
   "cell_type": "markdown",
   "id": "a276a360",
   "metadata": {},
   "source": [
    "Question No : 2"
   ]
  },
  {
   "cell_type": "code",
   "execution_count": 61,
   "id": "b31a7230",
   "metadata": {},
   "outputs": [],
   "source": [
    "driver1=webdriver.Chrome(r\"C:\\Users\\SWASTIKA\\chromedriver_win32.zip\\chromedriver.exe\")"
   ]
  },
  {
   "cell_type": "code",
   "execution_count": 62,
   "id": "0899380f",
   "metadata": {},
   "outputs": [],
   "source": [
    "driver1.get(\"https://www.naukri.com/\")"
   ]
  },
  {
   "cell_type": "code",
   "execution_count": 63,
   "id": "3bd54e22",
   "metadata": {},
   "outputs": [],
   "source": [
    "skill1=driver1.find_element(By.CLASS_NAME,\"suggestor-input\")\n",
    "skill1.send_keys(\"Data Scientist\")"
   ]
  },
  {
   "cell_type": "code",
   "execution_count": 64,
   "id": "702d28da",
   "metadata": {},
   "outputs": [],
   "source": [
    "location1=driver1.find_element(By.XPATH,\"/html/body/div[1]/div[6]/div/div/div[5]/div/div/div/input\")\n",
    "location1.send_keys(\"Bangalore\")"
   ]
  },
  {
   "cell_type": "code",
   "execution_count": 65,
   "id": "5070df56",
   "metadata": {},
   "outputs": [],
   "source": [
    "search1=driver1.find_element(By.CLASS_NAME,\"qsbSubmit\")\n",
    "search1.click()"
   ]
  },
  {
   "cell_type": "code",
   "execution_count": 18,
   "id": "9825a0d6",
   "metadata": {},
   "outputs": [],
   "source": [
    "job_title=[]\n",
    "job_location=[]\n",
    "company_name=[]"
   ]
  },
  {
   "cell_type": "code",
   "execution_count": 19,
   "id": "071b71c8",
   "metadata": {},
   "outputs": [],
   "source": [
    "title_tag=driver1.find_elements(By.XPATH,'//a[@class=\"title ellipsis\"]')\n",
    "for i in title_tag[0:10]:\n",
    "    title=i.text\n",
    "    job_title.append(title)\n",
    "    \n",
    "location_tag=driver1.find_elements(By.XPATH,'//span[@class=\"ellipsis fleft locWdth\"]')\n",
    "for i in location_tag[0:10]:\n",
    "    location=i.text\n",
    "    job_location.append(location)\n",
    "\n",
    "company_tag=driver1.find_elements(By.XPATH,'//a[@class=\"subTitle ellipsis fleft\"]')\n",
    "for i in company_tag[0:10]:\n",
    "    company=i.text\n",
    "    company_name.append(company)"
   ]
  },
  {
   "cell_type": "code",
   "execution_count": 20,
   "id": "97639a85",
   "metadata": {},
   "outputs": [
    {
     "name": "stdout",
     "output_type": "stream",
     "text": [
      "10 10 10\n"
     ]
    }
   ],
   "source": [
    "print(len(job_title),len(job_location),len(company_name))"
   ]
  },
  {
   "cell_type": "code",
   "execution_count": 21,
   "id": "6f7ee885",
   "metadata": {},
   "outputs": [
    {
     "data": {
      "text/html": [
       "<div>\n",
       "<style scoped>\n",
       "    .dataframe tbody tr th:only-of-type {\n",
       "        vertical-align: middle;\n",
       "    }\n",
       "\n",
       "    .dataframe tbody tr th {\n",
       "        vertical-align: top;\n",
       "    }\n",
       "\n",
       "    .dataframe thead th {\n",
       "        text-align: right;\n",
       "    }\n",
       "</style>\n",
       "<table border=\"1\" class=\"dataframe\">\n",
       "  <thead>\n",
       "    <tr style=\"text-align: right;\">\n",
       "      <th></th>\n",
       "      <th>Title</th>\n",
       "      <th>Location</th>\n",
       "      <th>Company</th>\n",
       "    </tr>\n",
       "  </thead>\n",
       "  <tbody>\n",
       "    <tr>\n",
       "      <th>0</th>\n",
       "      <td>Data Science Specialist</td>\n",
       "      <td>Bangalore/Bengaluru, Kolkata, Mumbai, Hyderaba...</td>\n",
       "      <td>Accenture</td>\n",
       "    </tr>\n",
       "    <tr>\n",
       "      <th>1</th>\n",
       "      <td>Analystics &amp; Modeling Specialist</td>\n",
       "      <td>Bangalore/Bengaluru, Kolkata, Mumbai, Hyderaba...</td>\n",
       "      <td>Accenture</td>\n",
       "    </tr>\n",
       "    <tr>\n",
       "      <th>2</th>\n",
       "      <td>Data Scientist</td>\n",
       "      <td>Hybrid - Bangalore/Bengaluru, Kolkata, Hyderab...</td>\n",
       "      <td>Cognizant</td>\n",
       "    </tr>\n",
       "    <tr>\n",
       "      <th>3</th>\n",
       "      <td>Staff Data Scientist</td>\n",
       "      <td>Bangalore/Bengaluru, Mumbai</td>\n",
       "      <td>Baker Hughes</td>\n",
       "    </tr>\n",
       "    <tr>\n",
       "      <th>4</th>\n",
       "      <td>Sr. Data scientist</td>\n",
       "      <td>Bangalore/Bengaluru, Hyderabad/Secunderabad, M...</td>\n",
       "      <td>Tata Consultancy Services (TCS)</td>\n",
       "    </tr>\n",
       "    <tr>\n",
       "      <th>5</th>\n",
       "      <td>Data Scientist</td>\n",
       "      <td>Bangalore/Bengaluru, Noida, Kolkata, Mumbai, H...</td>\n",
       "      <td>Capgemini</td>\n",
       "    </tr>\n",
       "    <tr>\n",
       "      <th>6</th>\n",
       "      <td>Lead Data Scientist</td>\n",
       "      <td>Bangalore/Bengaluru, Noida, Hyderabad/Secunder...</td>\n",
       "      <td>Birlasoft</td>\n",
       "    </tr>\n",
       "    <tr>\n",
       "      <th>7</th>\n",
       "      <td>Expert Data Scientist</td>\n",
       "      <td>Bangalore/Bengaluru, Mumbai</td>\n",
       "      <td>UPL Limited</td>\n",
       "    </tr>\n",
       "    <tr>\n",
       "      <th>8</th>\n",
       "      <td>Data Scientist Architect</td>\n",
       "      <td>Temp. WFH - Bangalore/Bengaluru, Hyderabad/Sec...</td>\n",
       "      <td>Brace Infotech</td>\n",
       "    </tr>\n",
       "    <tr>\n",
       "      <th>9</th>\n",
       "      <td>Data Scientist</td>\n",
       "      <td>Bangalore/Bengaluru, Noida, Indore, Pune, Gurg...</td>\n",
       "      <td>Impetus Technologies</td>\n",
       "    </tr>\n",
       "  </tbody>\n",
       "</table>\n",
       "</div>"
      ],
      "text/plain": [
       "                              Title  \\\n",
       "0           Data Science Specialist   \n",
       "1  Analystics & Modeling Specialist   \n",
       "2                    Data Scientist   \n",
       "3              Staff Data Scientist   \n",
       "4                Sr. Data scientist   \n",
       "5                    Data Scientist   \n",
       "6               Lead Data Scientist   \n",
       "7             Expert Data Scientist   \n",
       "8          Data Scientist Architect   \n",
       "9                    Data Scientist   \n",
       "\n",
       "                                            Location  \\\n",
       "0  Bangalore/Bengaluru, Kolkata, Mumbai, Hyderaba...   \n",
       "1  Bangalore/Bengaluru, Kolkata, Mumbai, Hyderaba...   \n",
       "2  Hybrid - Bangalore/Bengaluru, Kolkata, Hyderab...   \n",
       "3                        Bangalore/Bengaluru, Mumbai   \n",
       "4  Bangalore/Bengaluru, Hyderabad/Secunderabad, M...   \n",
       "5  Bangalore/Bengaluru, Noida, Kolkata, Mumbai, H...   \n",
       "6  Bangalore/Bengaluru, Noida, Hyderabad/Secunder...   \n",
       "7                        Bangalore/Bengaluru, Mumbai   \n",
       "8  Temp. WFH - Bangalore/Bengaluru, Hyderabad/Sec...   \n",
       "9  Bangalore/Bengaluru, Noida, Indore, Pune, Gurg...   \n",
       "\n",
       "                           Company  \n",
       "0                        Accenture  \n",
       "1                        Accenture  \n",
       "2                        Cognizant  \n",
       "3                     Baker Hughes  \n",
       "4  Tata Consultancy Services (TCS)  \n",
       "5                        Capgemini  \n",
       "6                        Birlasoft  \n",
       "7                      UPL Limited  \n",
       "8                   Brace Infotech  \n",
       "9             Impetus Technologies  "
      ]
     },
     "execution_count": 21,
     "metadata": {},
     "output_type": "execute_result"
    }
   ],
   "source": [
    "df1=pd.DataFrame({'Title':job_title,'Location':job_location,'Company':company_name})\n",
    "df1"
   ]
  },
  {
   "cell_type": "markdown",
   "id": "9c1269c6",
   "metadata": {},
   "source": [
    "Question No : 3"
   ]
  },
  {
   "cell_type": "code",
   "execution_count": 22,
   "id": "602b2f3e",
   "metadata": {},
   "outputs": [],
   "source": [
    "driver2=webdriver.Chrome(r\"C:\\Users\\SWASTIKA\\chromedriver_win32.zip\\chromedriver.exe\")"
   ]
  },
  {
   "cell_type": "code",
   "execution_count": 23,
   "id": "a58074d9",
   "metadata": {},
   "outputs": [],
   "source": [
    "driver2.get(\"https://www.naukri.com/\")"
   ]
  },
  {
   "cell_type": "code",
   "execution_count": 24,
   "id": "15c7f1df",
   "metadata": {},
   "outputs": [],
   "source": [
    "skill2=driver2.find_element(By.CLASS_NAME,\"suggestor-input\")\n",
    "skill2.send_keys(\"Data Scientist\")"
   ]
  },
  {
   "cell_type": "code",
   "execution_count": 25,
   "id": "44b92134",
   "metadata": {},
   "outputs": [],
   "source": [
    "search2=driver2.find_element(By.CLASS_NAME,\"qsbSubmit\")\n",
    "search2.click()"
   ]
  },
  {
   "cell_type": "code",
   "execution_count": 27,
   "id": "695a6742",
   "metadata": {},
   "outputs": [],
   "source": [
    "filter_location=driver2.find_element(By.XPATH,'/html/body/div[1]/div[4]/div/div/section[1]/div[2]/div[5]/div[2]/div[2]/label/i')\n",
    "filter_location.click()"
   ]
  },
  {
   "cell_type": "code",
   "execution_count": 29,
   "id": "2b8ae474",
   "metadata": {},
   "outputs": [],
   "source": [
    "filter_salary=driver2.find_element(By.XPATH,'/html/body/div[1]/div[4]/div/div/section[1]/div[2]/div[6]/div[2]/div[2]/label/i')\n",
    "filter_salary.click()"
   ]
  },
  {
   "cell_type": "code",
   "execution_count": 30,
   "id": "a1bd4d6a",
   "metadata": {},
   "outputs": [],
   "source": [
    "job_title=[]\n",
    "job_location=[]\n",
    "company_name=[]\n",
    "experience_required=[]"
   ]
  },
  {
   "cell_type": "code",
   "execution_count": 31,
   "id": "699e1337",
   "metadata": {},
   "outputs": [],
   "source": [
    "title_tag=driver2.find_elements(By.XPATH,'//a[@class=\"title ellipsis\"]')\n",
    "for i in title_tag[0:10]:\n",
    "    title=i.text\n",
    "    job_title.append(title)\n",
    "    \n",
    "location_tag=driver2.find_elements(By.XPATH,'//span[@class=\"ellipsis fleft locWdth\"]')\n",
    "for i in location_tag[0:10]:\n",
    "    location=i.text\n",
    "    job_location.append(location)\n",
    "    \n",
    "company_tag=driver2.find_elements(By.XPATH,'//a[@class=\"subTitle ellipsis fleft\"]')\n",
    "for i in company_tag[0:10]:\n",
    "    company=i.text\n",
    "    company_name.append(company)\n",
    "    \n",
    "experience_tag=driver2.find_elements(By.XPATH,'//span[@class=\"ellipsis fleft expwdth\"]')\n",
    "for i in experience_tag[0:10]:\n",
    "    experience=i.text\n",
    "    experience_required.append(experience)"
   ]
  },
  {
   "cell_type": "code",
   "execution_count": 32,
   "id": "b2fda8a5",
   "metadata": {},
   "outputs": [
    {
     "name": "stdout",
     "output_type": "stream",
     "text": [
      "10 10 10 10\n"
     ]
    }
   ],
   "source": [
    "print(len(job_title),len(job_location),len(company_name),len(experience_required))"
   ]
  },
  {
   "cell_type": "code",
   "execution_count": 33,
   "id": "9b9de323",
   "metadata": {},
   "outputs": [
    {
     "data": {
      "text/html": [
       "<div>\n",
       "<style scoped>\n",
       "    .dataframe tbody tr th:only-of-type {\n",
       "        vertical-align: middle;\n",
       "    }\n",
       "\n",
       "    .dataframe tbody tr th {\n",
       "        vertical-align: top;\n",
       "    }\n",
       "\n",
       "    .dataframe thead th {\n",
       "        text-align: right;\n",
       "    }\n",
       "</style>\n",
       "<table border=\"1\" class=\"dataframe\">\n",
       "  <thead>\n",
       "    <tr style=\"text-align: right;\">\n",
       "      <th></th>\n",
       "      <th>Title</th>\n",
       "      <th>Location</th>\n",
       "      <th>Company</th>\n",
       "      <th>Experience</th>\n",
       "    </tr>\n",
       "  </thead>\n",
       "  <tbody>\n",
       "    <tr>\n",
       "      <th>0</th>\n",
       "      <td>Data Scientist data Analyst</td>\n",
       "      <td>Delhi / NCR, Kolkata, Hyderabad/Secunderabad, ...</td>\n",
       "      <td>Smark Laser Automation</td>\n",
       "      <td>0-5 Yrs</td>\n",
       "    </tr>\n",
       "    <tr>\n",
       "      <th>1</th>\n",
       "      <td>Data Scientist - Engine Algorithm</td>\n",
       "      <td>Delhi / NCR, Kolkata, Mumbai, Hyderabad/Secund...</td>\n",
       "      <td>Primo Hiring</td>\n",
       "      <td>1-3 Yrs</td>\n",
       "    </tr>\n",
       "    <tr>\n",
       "      <th>2</th>\n",
       "      <td>Analyst-Data Science</td>\n",
       "      <td>Gurgaon/Gurugram</td>\n",
       "      <td>AMERICAN EXPRESS</td>\n",
       "      <td>0-3 Yrs</td>\n",
       "    </tr>\n",
       "    <tr>\n",
       "      <th>3</th>\n",
       "      <td>Analyst-Data Science</td>\n",
       "      <td>Gurgaon/Gurugram</td>\n",
       "      <td>AMERICAN EXPRESS</td>\n",
       "      <td>0-3 Yrs</td>\n",
       "    </tr>\n",
       "    <tr>\n",
       "      <th>4</th>\n",
       "      <td>Senior Data Scientist - Statistics</td>\n",
       "      <td>Gurgaon/Gurugram</td>\n",
       "      <td>Optum</td>\n",
       "      <td>5-8 Yrs</td>\n",
       "    </tr>\n",
       "    <tr>\n",
       "      <th>5</th>\n",
       "      <td>Data Scientist</td>\n",
       "      <td>Delhi / NCR, Noida(Sector-136 Noida), Ghaziaba...</td>\n",
       "      <td>Extramarks Education</td>\n",
       "      <td>3-5 Yrs</td>\n",
       "    </tr>\n",
       "    <tr>\n",
       "      <th>6</th>\n",
       "      <td>Data Scientist</td>\n",
       "      <td>Gurgaon/Gurugram</td>\n",
       "      <td>Gartner India Research &amp;amp; Advisory Services...</td>\n",
       "      <td>2-7 Yrs</td>\n",
       "    </tr>\n",
       "    <tr>\n",
       "      <th>7</th>\n",
       "      <td>Associate Data Scientist - ML &amp; NLP</td>\n",
       "      <td>Gurgaon/Gurugram</td>\n",
       "      <td>Gartner India Research &amp;amp; Advisory Services...</td>\n",
       "      <td>2-4 Yrs</td>\n",
       "    </tr>\n",
       "    <tr>\n",
       "      <th>8</th>\n",
       "      <td>Data Scientist</td>\n",
       "      <td>Hybrid - Delhi / NCR, Noida, New Delhi, Gurgao...</td>\n",
       "      <td>Nits Solutions</td>\n",
       "      <td>3-7 Yrs</td>\n",
       "    </tr>\n",
       "    <tr>\n",
       "      <th>9</th>\n",
       "      <td>Data Scientist</td>\n",
       "      <td>Noida</td>\n",
       "      <td>Gujarat Fluorochemicals</td>\n",
       "      <td>1-2 Yrs</td>\n",
       "    </tr>\n",
       "  </tbody>\n",
       "</table>\n",
       "</div>"
      ],
      "text/plain": [
       "                                 Title  \\\n",
       "0          Data Scientist data Analyst   \n",
       "1    Data Scientist - Engine Algorithm   \n",
       "2                 Analyst-Data Science   \n",
       "3                 Analyst-Data Science   \n",
       "4   Senior Data Scientist - Statistics   \n",
       "5                       Data Scientist   \n",
       "6                       Data Scientist   \n",
       "7  Associate Data Scientist - ML & NLP   \n",
       "8                       Data Scientist   \n",
       "9                       Data Scientist   \n",
       "\n",
       "                                            Location  \\\n",
       "0  Delhi / NCR, Kolkata, Hyderabad/Secunderabad, ...   \n",
       "1  Delhi / NCR, Kolkata, Mumbai, Hyderabad/Secund...   \n",
       "2                                   Gurgaon/Gurugram   \n",
       "3                                   Gurgaon/Gurugram   \n",
       "4                                   Gurgaon/Gurugram   \n",
       "5  Delhi / NCR, Noida(Sector-136 Noida), Ghaziaba...   \n",
       "6                                   Gurgaon/Gurugram   \n",
       "7                                   Gurgaon/Gurugram   \n",
       "8  Hybrid - Delhi / NCR, Noida, New Delhi, Gurgao...   \n",
       "9                                              Noida   \n",
       "\n",
       "                                             Company Experience  \n",
       "0                             Smark Laser Automation    0-5 Yrs  \n",
       "1                                       Primo Hiring    1-3 Yrs  \n",
       "2                                   AMERICAN EXPRESS    0-3 Yrs  \n",
       "3                                   AMERICAN EXPRESS    0-3 Yrs  \n",
       "4                                              Optum    5-8 Yrs  \n",
       "5                               Extramarks Education    3-5 Yrs  \n",
       "6  Gartner India Research &amp; Advisory Services...    2-7 Yrs  \n",
       "7  Gartner India Research &amp; Advisory Services...    2-4 Yrs  \n",
       "8                                     Nits Solutions    3-7 Yrs  \n",
       "9                            Gujarat Fluorochemicals    1-2 Yrs  "
      ]
     },
     "execution_count": 33,
     "metadata": {},
     "output_type": "execute_result"
    }
   ],
   "source": [
    "df2=pd.DataFrame({'Title':job_title,'Location':job_location,'Company':company_name,'Experience':experience_required})\n",
    "df2"
   ]
  },
  {
   "cell_type": "markdown",
   "id": "ed3a7615",
   "metadata": {},
   "source": [
    "Question No : 4"
   ]
  },
  {
   "cell_type": "code",
   "execution_count": 3,
   "id": "01e90ff2",
   "metadata": {},
   "outputs": [],
   "source": [
    "driver3=webdriver.Chrome(r\"C:\\Users\\SWASTIKA\\chromedriver_win32.zip\\chromedriver.exe\")"
   ]
  },
  {
   "cell_type": "code",
   "execution_count": 5,
   "id": "725b54ab",
   "metadata": {},
   "outputs": [],
   "source": [
    "driver3.get(\"https://www.flipkart.com/\")"
   ]
  },
  {
   "cell_type": "code",
   "execution_count": 6,
   "id": "86496fb9",
   "metadata": {},
   "outputs": [],
   "source": [
    "search=driver3.find_element(By.CLASS_NAME,\"_3704LK\")\n",
    "search.send_keys(\"sunglasses\")"
   ]
  },
  {
   "cell_type": "code",
   "execution_count": 7,
   "id": "aec67578",
   "metadata": {},
   "outputs": [],
   "source": [
    "search1=driver3.find_element(By.CLASS_NAME,\"L0Z3Pu\")\n",
    "search1.click()"
   ]
  },
  {
   "cell_type": "code",
   "execution_count": 8,
   "id": "114edd26",
   "metadata": {},
   "outputs": [],
   "source": [
    "brand=[]\n",
    "product=[]\n",
    "price=[]"
   ]
  },
  {
   "cell_type": "code",
   "execution_count": 9,
   "id": "54452648",
   "metadata": {},
   "outputs": [],
   "source": [
    "start=0\n",
    "end=3\n",
    "for i in range(start,end):\n",
    "    brand_tag=driver3.find_elements(By.XPATH,'//div[@class=\"_2WkVRV\"]')\n",
    "    for i in brand_tag[0:100]:\n",
    "        brand.append(i.text)\n",
    "    product_tag=driver3.find_elements(By.XPATH,'//a[@class=\"IRpwTa\"]')\n",
    "    for i in product_tag[0:100]:\n",
    "        product.append(i.text)\n",
    "    price_tag=driver3.find_elements(By.XPATH,'//div[@class=\"_30jeq3\"]')\n",
    "    for i in price_tag[0:100]:\n",
    "        price.append(i.text)\n",
    "    next_button=driver3.find_element(By.XPATH,'//a[@class=\"_1LKTO3\"]')\n",
    "    next_button.click()\n",
    "    time.sleep(3)"
   ]
  },
  {
   "cell_type": "code",
   "execution_count": 10,
   "id": "aa38f7a4",
   "metadata": {},
   "outputs": [
    {
     "name": "stdout",
     "output_type": "stream",
     "text": [
      "120 120 120\n"
     ]
    }
   ],
   "source": [
    "print(len(brand),len(product),len(price))"
   ]
  },
  {
   "cell_type": "markdown",
   "id": "256c9d33",
   "metadata": {},
   "source": [
    "Question No : 5"
   ]
  },
  {
   "cell_type": "code",
   "execution_count": 56,
   "id": "b51c6955",
   "metadata": {},
   "outputs": [],
   "source": [
    "driver4=webdriver.Chrome(r\"\\Users\\SWASTIKA\\chromedriver_win32.zip\\chromedriver.exe\")"
   ]
  },
  {
   "cell_type": "code",
   "execution_count": 57,
   "id": "689e7daf",
   "metadata": {},
   "outputs": [],
   "source": [
    "driver4.get(\"https://www.flipkart.com/\")"
   ]
  },
  {
   "cell_type": "code",
   "execution_count": 58,
   "id": "ed0a551d",
   "metadata": {},
   "outputs": [],
   "source": [
    "search=driver4.find_element(By.XPATH,'/html/body/div[1]/div/div[1]/div[1]/div[2]/div[2]/form/div/div/input')\n",
    "search.send_keys(\"i phone-11-black-64gb\")"
   ]
  },
  {
   "cell_type": "code",
   "execution_count": 60,
   "id": "0b10da1c",
   "metadata": {},
   "outputs": [
    {
     "ename": "AttributeError",
     "evalue": "'list' object has no attribute 'click'",
     "output_type": "error",
     "traceback": [
      "\u001b[1;31m---------------------------------------------------------------------------\u001b[0m",
      "\u001b[1;31mAttributeError\u001b[0m                            Traceback (most recent call last)",
      "Input \u001b[1;32mIn [60]\u001b[0m, in \u001b[0;36m<cell line: 2>\u001b[1;34m()\u001b[0m\n\u001b[0;32m      1\u001b[0m search1\u001b[38;5;241m=\u001b[39mdriver4\u001b[38;5;241m.\u001b[39mfind_elements(By\u001b[38;5;241m.\u001b[39mCLASS_NAME,\u001b[38;5;124m'\u001b[39m\u001b[38;5;124mL0Z3Pu\u001b[39m\u001b[38;5;124m'\u001b[39m)\n\u001b[1;32m----> 2\u001b[0m \u001b[43msearch1\u001b[49m\u001b[38;5;241;43m.\u001b[39;49m\u001b[43mclick\u001b[49m()\n",
      "\u001b[1;31mAttributeError\u001b[0m: 'list' object has no attribute 'click'"
     ]
    }
   ],
   "source": [
    "search1=driver4.find_elements(By.CLASS_NAME,'L0Z3Pu')\n",
    "search1.click()"
   ]
  },
  {
   "cell_type": "code",
   "execution_count": null,
   "id": "6b0ad52c",
   "metadata": {},
   "outputs": [],
   "source": []
  },
  {
   "cell_type": "code",
   "execution_count": null,
   "id": "13493bb2",
   "metadata": {},
   "outputs": [],
   "source": []
  },
  {
   "cell_type": "code",
   "execution_count": null,
   "id": "ae8d61b4",
   "metadata": {},
   "outputs": [],
   "source": []
  },
  {
   "cell_type": "code",
   "execution_count": null,
   "id": "6a256240",
   "metadata": {},
   "outputs": [],
   "source": []
  },
  {
   "cell_type": "markdown",
   "id": "348d1ace",
   "metadata": {},
   "source": [
    "Question No : 6"
   ]
  },
  {
   "cell_type": "code",
   "execution_count": 12,
   "id": "28b1bac4",
   "metadata": {},
   "outputs": [],
   "source": [
    "driver5=webdriver.Chrome(r\"\\Users\\SWASTIKA\\chromedriver_win32.zip\\chromedriver.exe\")"
   ]
  },
  {
   "cell_type": "code",
   "execution_count": 13,
   "id": "e89d851d",
   "metadata": {},
   "outputs": [],
   "source": [
    "driver5.get(\"https://www.flipkart.com/\")"
   ]
  },
  {
   "cell_type": "code",
   "execution_count": 14,
   "id": "ab61d80d",
   "metadata": {},
   "outputs": [],
   "source": [
    "search=driver5.find_element(By.CLASS_NAME,\"_3704LK\")\n",
    "search.send_keys(\"sneakers\")"
   ]
  },
  {
   "cell_type": "code",
   "execution_count": 15,
   "id": "c06a3ae0",
   "metadata": {},
   "outputs": [],
   "source": [
    "search1=driver5.find_element(By.CLASS_NAME,\"L0Z3Pu\")\n",
    "search1.click()"
   ]
  },
  {
   "cell_type": "code",
   "execution_count": 16,
   "id": "d928e30e",
   "metadata": {},
   "outputs": [],
   "source": [
    "brand=[]\n",
    "product=[]\n",
    "price=[]"
   ]
  },
  {
   "cell_type": "code",
   "execution_count": 18,
   "id": "1ce0164c",
   "metadata": {},
   "outputs": [
    {
     "ename": "AttributeError",
     "evalue": "'list' object has no attribute 'click'",
     "output_type": "error",
     "traceback": [
      "\u001b[1;31m---------------------------------------------------------------------------\u001b[0m",
      "\u001b[1;31mAttributeError\u001b[0m                            Traceback (most recent call last)",
      "Input \u001b[1;32mIn [18]\u001b[0m, in \u001b[0;36m<cell line: 3>\u001b[1;34m()\u001b[0m\n\u001b[0;32m     12\u001b[0m     price\u001b[38;5;241m.\u001b[39mappend(i\u001b[38;5;241m.\u001b[39mtext)\n\u001b[0;32m     13\u001b[0m next_button1\u001b[38;5;241m=\u001b[39mdriver5\u001b[38;5;241m.\u001b[39mfind_elements(By\u001b[38;5;241m.\u001b[39mXPATH,\u001b[38;5;124m'\u001b[39m\u001b[38;5;124m//a[@class=\u001b[39m\u001b[38;5;124m\"\u001b[39m\u001b[38;5;124m_1LKTO3\u001b[39m\u001b[38;5;124m\"\u001b[39m\u001b[38;5;124m]\u001b[39m\u001b[38;5;124m'\u001b[39m)\n\u001b[1;32m---> 14\u001b[0m \u001b[43mnext_button1\u001b[49m\u001b[38;5;241;43m.\u001b[39;49m\u001b[43mclick\u001b[49m()\n\u001b[0;32m     15\u001b[0m time\u001b[38;5;241m.\u001b[39msleep(\u001b[38;5;241m3\u001b[39m)\n",
      "\u001b[1;31mAttributeError\u001b[0m: 'list' object has no attribute 'click'"
     ]
    }
   ],
   "source": [
    "start=0\n",
    "end=3\n",
    "for i in range(start,end):\n",
    "    brand_tag=driver5.find_elements(By.XPATH,'//div[@class=\"_2WkVRV\"]')\n",
    "    for i in brand_tag[0:100]:\n",
    "        brand.append(i.text)\n",
    "    product_tag=driver5.find_elements(By.XPATH,'//a[@class=\"IRpwTa\"]')\n",
    "    for i in product_tag[0:100]:\n",
    "        product.append(i.text)\n",
    "    price_tag=driver5.find_elements(By.XPATH,'//div[@class=\"_30jeq3\"]')\n",
    "    for i in price_tag[0:100]:\n",
    "        price.append(i.text)\n",
    "    next_button1=driver5.find_elements(By.XPATH,'//a[@class=\"_1LKTO3\"]')\n",
    "    next_button1.click()\n",
    "    time.sleep(3)"
   ]
  },
  {
   "cell_type": "code",
   "execution_count": 48,
   "id": "1a1fb8c8",
   "metadata": {},
   "outputs": [
    {
     "name": "stdout",
     "output_type": "stream",
     "text": [
      "40 39 40\n"
     ]
    }
   ],
   "source": [
    "print(len(brand),len(product),len(price))"
   ]
  },
  {
   "cell_type": "markdown",
   "id": "79a87546",
   "metadata": {},
   "source": [
    "Question No : 7"
   ]
  },
  {
   "cell_type": "code",
   "execution_count": 61,
   "id": "ceadec8e",
   "metadata": {},
   "outputs": [],
   "source": [
    "driver6=webdriver.Chrome(r\"\\Users\\SWASTIKA\\chromedriver_win32.zip\\chromedriver.exe\")"
   ]
  },
  {
   "cell_type": "code",
   "execution_count": 62,
   "id": "950d4d61",
   "metadata": {},
   "outputs": [],
   "source": [
    "driver6.get(\"https://www.amazon.in/\")"
   ]
  },
  {
   "cell_type": "code",
   "execution_count": 63,
   "id": "ecb25c2e",
   "metadata": {},
   "outputs": [],
   "source": [
    "search=driver6.find_element(By.XPATH,'/html/body/div[1]/header/div/div[1]/div[2]/div/form/div[2]/div[1]/input')\n",
    "search.send_keys(\"Laptop\")"
   ]
  },
  {
   "cell_type": "code",
   "execution_count": 64,
   "id": "1802bb24",
   "metadata": {},
   "outputs": [],
   "source": [
    "search1=driver6.find_element(By.XPATH,'/html/body/div[1]/header/div/div[1]/div[2]/div/form/div[3]/div/span/input')\n",
    "search1.click()"
   ]
  },
  {
   "cell_type": "code",
   "execution_count": 65,
   "id": "220db435",
   "metadata": {},
   "outputs": [],
   "source": [
    "filter_laptop=driver6.find_element(By.XPATH,'/html/body/div[1]/div[2]/div[1]/div[2]/div/div[3]/span/div[1]/div/div/div[6]/ul[6]/li[10]/span/a/div/label/i')\n",
    "filter_laptop.click()"
   ]
  },
  {
   "cell_type": "code",
   "execution_count": 66,
   "id": "832af8d8",
   "metadata": {},
   "outputs": [],
   "source": [
    "title=[]\n",
    "rating=[]\n",
    "price=[]\n"
   ]
  },
  {
   "cell_type": "code",
   "execution_count": 67,
   "id": "3096d9e9",
   "metadata": {},
   "outputs": [],
   "source": [
    "title_tag=driver6.find_elements(By.XPATH,'//span[@class=\"a-size-medium a-color-base a-text-normal\"]')\n",
    "for i in title_tag[0:10]:\n",
    "    tit=i.text\n",
    "    title.append(tit)\n",
    "    \n",
    "rating_tag=driver6.find_elements(By.XPATH,'//span[@class=\"a-size-base\"]')\n",
    "for i in rating_tag[0:10]:\n",
    "    rat=i.text\n",
    "    rating.append(rat)\n",
    "\n",
    "price_tag=driver6.find_elements(By.XPATH,'//span[@class=\"a-price-whole\"]')\n",
    "for i in price_tag[0:10]:\n",
    "    pri=i.text\n",
    "    price.append(pri)"
   ]
  },
  {
   "cell_type": "code",
   "execution_count": 68,
   "id": "658760d6",
   "metadata": {},
   "outputs": [
    {
     "name": "stdout",
     "output_type": "stream",
     "text": [
      "10 10 10\n"
     ]
    }
   ],
   "source": [
    "print(len(title),len(rating),len(price))"
   ]
  },
  {
   "cell_type": "code",
   "execution_count": 70,
   "id": "788be4db",
   "metadata": {},
   "outputs": [
    {
     "data": {
      "text/html": [
       "<div>\n",
       "<style scoped>\n",
       "    .dataframe tbody tr th:only-of-type {\n",
       "        vertical-align: middle;\n",
       "    }\n",
       "\n",
       "    .dataframe tbody tr th {\n",
       "        vertical-align: top;\n",
       "    }\n",
       "\n",
       "    .dataframe thead th {\n",
       "        text-align: right;\n",
       "    }\n",
       "</style>\n",
       "<table border=\"1\" class=\"dataframe\">\n",
       "  <thead>\n",
       "    <tr style=\"text-align: right;\">\n",
       "      <th></th>\n",
       "      <th>Title</th>\n",
       "      <th>Rating</th>\n",
       "      <th>Price</th>\n",
       "    </tr>\n",
       "  </thead>\n",
       "  <tbody>\n",
       "    <tr>\n",
       "      <th>0</th>\n",
       "      <td>Fujitsu UH-X 11th Gen Intel Core i7 13.3\" FHD ...</td>\n",
       "      <td>4.3</td>\n",
       "      <td>89,990</td>\n",
       "    </tr>\n",
       "    <tr>\n",
       "      <th>1</th>\n",
       "      <td>Lenovo Legion 5 Intel Core i7 11th Gen 15.6\" (...</td>\n",
       "      <td>2.9</td>\n",
       "      <td>1,17,990</td>\n",
       "    </tr>\n",
       "    <tr>\n",
       "      <th>2</th>\n",
       "      <td>ASUS Vivobook 14, Intel Core i7-1165G7 11th Ge...</td>\n",
       "      <td>4.1</td>\n",
       "      <td>56,990</td>\n",
       "    </tr>\n",
       "    <tr>\n",
       "      <th>3</th>\n",
       "      <td>HP Pavilion Plus, 12th Gen Intel Core i7 16GB ...</td>\n",
       "      <td>4.0</td>\n",
       "      <td>94,490</td>\n",
       "    </tr>\n",
       "    <tr>\n",
       "      <th>4</th>\n",
       "      <td>Samsung Galaxy Book2 (NP750) Intel 12th Gen co...</td>\n",
       "      <td>4.0</td>\n",
       "      <td>77,990</td>\n",
       "    </tr>\n",
       "    <tr>\n",
       "      <th>5</th>\n",
       "      <td>Samsung Galaxy Book2 360 Intel 12th Gen i7 Evo...</td>\n",
       "      <td>4.2</td>\n",
       "      <td>1,03,990</td>\n",
       "    </tr>\n",
       "    <tr>\n",
       "      <th>6</th>\n",
       "      <td>Hp Pavilion 15 12Th Gen Intel Core I7 16Gb Sdr...</td>\n",
       "      <td>3.8</td>\n",
       "      <td>89,990</td>\n",
       "    </tr>\n",
       "    <tr>\n",
       "      <th>7</th>\n",
       "      <td>MSI GF75 Thin Gaming, Intel Core i7-10750H, 44...</td>\n",
       "      <td>4.4</td>\n",
       "      <td>62,990</td>\n",
       "    </tr>\n",
       "    <tr>\n",
       "      <th>8</th>\n",
       "      <td>ASUS TUF Dash F15 (2022), 15.6-inch (39.62 cms...</td>\n",
       "      <td>5.0</td>\n",
       "      <td>1,49,610</td>\n",
       "    </tr>\n",
       "    <tr>\n",
       "      <th>9</th>\n",
       "      <td>Dell Inspiron 5320 Laptop, Intel i7-1260P, 16G...</td>\n",
       "      <td>3.3</td>\n",
       "      <td>84,918</td>\n",
       "    </tr>\n",
       "  </tbody>\n",
       "</table>\n",
       "</div>"
      ],
      "text/plain": [
       "                                               Title Rating     Price\n",
       "0  Fujitsu UH-X 11th Gen Intel Core i7 13.3\" FHD ...    4.3    89,990\n",
       "1  Lenovo Legion 5 Intel Core i7 11th Gen 15.6\" (...    2.9  1,17,990\n",
       "2  ASUS Vivobook 14, Intel Core i7-1165G7 11th Ge...    4.1    56,990\n",
       "3  HP Pavilion Plus, 12th Gen Intel Core i7 16GB ...    4.0    94,490\n",
       "4  Samsung Galaxy Book2 (NP750) Intel 12th Gen co...    4.0    77,990\n",
       "5  Samsung Galaxy Book2 360 Intel 12th Gen i7 Evo...    4.2  1,03,990\n",
       "6  Hp Pavilion 15 12Th Gen Intel Core I7 16Gb Sdr...    3.8    89,990\n",
       "7  MSI GF75 Thin Gaming, Intel Core i7-10750H, 44...    4.4    62,990\n",
       "8  ASUS TUF Dash F15 (2022), 15.6-inch (39.62 cms...    5.0  1,49,610\n",
       "9  Dell Inspiron 5320 Laptop, Intel i7-1260P, 16G...    3.3    84,918"
      ]
     },
     "execution_count": 70,
     "metadata": {},
     "output_type": "execute_result"
    }
   ],
   "source": [
    "df6=pd.DataFrame({\"Title\":title,\"Rating\":rating,\"Price\":price})\n",
    "df6"
   ]
  },
  {
   "cell_type": "markdown",
   "id": "0dfdeed9",
   "metadata": {},
   "source": [
    "Question No : 8"
   ]
  },
  {
   "cell_type": "code",
   "execution_count": 19,
   "id": "e22cf0d6",
   "metadata": {},
   "outputs": [],
   "source": [
    "driver7=webdriver.Chrome(r\"\\Users\\SWASTIKA\\chromedriver_win32.zip\\chromedriver.exe\")"
   ]
  },
  {
   "cell_type": "code",
   "execution_count": 20,
   "id": "caa3944d",
   "metadata": {},
   "outputs": [],
   "source": [
    "driver7.get(\"https://www.azquotes.com/\")"
   ]
  },
  {
   "cell_type": "code",
   "execution_count": 21,
   "id": "870bd177",
   "metadata": {},
   "outputs": [],
   "source": [
    "top_quotes=driver7.find_element(By.XPATH,'/html/body/div[1]/div[1]/div[1]/div/div[3]/ul/li[5]/a')\n",
    "top_quotes.click()"
   ]
  },
  {
   "cell_type": "code",
   "execution_count": 22,
   "id": "8b8fc839",
   "metadata": {},
   "outputs": [],
   "source": [
    "quote=[]\n",
    "authors=[]\n",
    "type_Of_quotes=[]"
   ]
  },
  {
   "cell_type": "code",
   "execution_count": 25,
   "id": "3dc7cae5",
   "metadata": {},
   "outputs": [
    {
     "ename": "AttributeError",
     "evalue": "'list' object has no attribute 'click'",
     "output_type": "error",
     "traceback": [
      "\u001b[1;31m---------------------------------------------------------------------------\u001b[0m",
      "\u001b[1;31mAttributeError\u001b[0m                            Traceback (most recent call last)",
      "Input \u001b[1;32mIn [25]\u001b[0m, in \u001b[0;36m<cell line: 3>\u001b[1;34m()\u001b[0m\n\u001b[0;32m     17\u001b[0m     type_Of_quotes\u001b[38;5;241m.\u001b[39mappend(quo)\n\u001b[0;32m     19\u001b[0m next_button2\u001b[38;5;241m=\u001b[39mdriver7\u001b[38;5;241m.\u001b[39mfind_elements(By\u001b[38;5;241m.\u001b[39mXPATH,\u001b[38;5;124m'\u001b[39m\u001b[38;5;124m//li[@class=\u001b[39m\u001b[38;5;124m\"\u001b[39m\u001b[38;5;124mnext\u001b[39m\u001b[38;5;124m\"\u001b[39m\u001b[38;5;124m]\u001b[39m\u001b[38;5;124m'\u001b[39m)\n\u001b[1;32m---> 20\u001b[0m \u001b[43mnext_button2\u001b[49m\u001b[38;5;241;43m.\u001b[39;49m\u001b[43mclick\u001b[49m()\n\u001b[0;32m     21\u001b[0m timr\u001b[38;5;241m.\u001b[39msleep(\u001b[38;5;241m3\u001b[39m)\n",
      "\u001b[1;31mAttributeError\u001b[0m: 'list' object has no attribute 'click'"
     ]
    }
   ],
   "source": [
    "start=0\n",
    "end=10\n",
    "for i in range(start,end):\n",
    "    quote_tag=driver7.find_elements(By.XPATH,'//a[@class=\"title\"]')\n",
    "    for i in quote_tag[0:]:\n",
    "        qu=i.text\n",
    "        quote.append(qu)\n",
    "    \n",
    "    authors_tag=driver7.find_elements(By.XPATH,'//div[@class=\"author\"]')\n",
    "    for i in authors_tag[0:]:\n",
    "        au=i.text\n",
    "        authors.append(au)\n",
    "        \n",
    "    type_quotes_tag=driver7.find_elements(By.XPATH,'//div[@class=\"tags\"]')\n",
    "    for i in type_quotes_tag[0:]:\n",
    "        quo=i.text\n",
    "        type_Of_quotes.append(quo)\n",
    "        \n",
    "    next_button2=driver7.find_elements(By.XPATH,'//li[@class=\"next\"]')\n",
    "    next_button2.click()\n",
    "    timr.sleep(3)\n",
    "    "
   ]
  },
  {
   "cell_type": "code",
   "execution_count": null,
   "id": "c8a72a0a",
   "metadata": {},
   "outputs": [],
   "source": []
  },
  {
   "cell_type": "code",
   "execution_count": null,
   "id": "b2036c85",
   "metadata": {},
   "outputs": [],
   "source": []
  },
  {
   "cell_type": "code",
   "execution_count": null,
   "id": "85ef38e5",
   "metadata": {},
   "outputs": [],
   "source": []
  },
  {
   "cell_type": "markdown",
   "id": "118a6981",
   "metadata": {},
   "source": [
    "Question No : 9"
   ]
  },
  {
   "cell_type": "code",
   "execution_count": 26,
   "id": "04aa5aeb",
   "metadata": {},
   "outputs": [],
   "source": [
    "driver7=webdriver.Chrome(r\"\\Users\\SWASTIKA\\chromedriver_win32.zip\\chromedriver.exe\")"
   ]
  },
  {
   "cell_type": "code",
   "execution_count": 27,
   "id": "1af14a2e",
   "metadata": {},
   "outputs": [],
   "source": [
    "driver7.get(\"https://www.jagranjosh.com/\")"
   ]
  },
  {
   "cell_type": "code",
   "execution_count": 28,
   "id": "bc8e00be",
   "metadata": {},
   "outputs": [],
   "source": [
    "gk=driver7.find_element(By.XPATH,'/html/body/div/div[1]/div/div[1]/div/div[6]/div/div[1]/header/div[3]/ul/li[9]/a')\n",
    "gk.click()"
   ]
  },
  {
   "cell_type": "code",
   "execution_count": 31,
   "id": "6ee95aad",
   "metadata": {},
   "outputs": [],
   "source": [
    "prime_minster=driver7.find_element(By.XPATH,'/html/body/div[1]/div/div/div[2]/div/div[10]/div/div/ul/li[2]/a')\n",
    "prime_minster.click()"
   ]
  },
  {
   "cell_type": "code",
   "execution_count": 32,
   "id": "4efd47ae",
   "metadata": {},
   "outputs": [],
   "source": [
    "name=[]\n",
    "born_dead=[]\n",
    "term_of_office=[]\n",
    "remarks=[]"
   ]
  },
  {
   "cell_type": "code",
   "execution_count": 41,
   "id": "136e13d0",
   "metadata": {},
   "outputs": [],
   "source": [
    "name_tag=driver7.find_elements(By.XPATH,'//p[@class=\"__web-inspector-hide-shortcut__\"]')\n",
    "for i in name_tag[0:]:\n",
    "    na=i.text\n",
    "    name.append(na)"
   ]
  },
  {
   "cell_type": "code",
   "execution_count": 42,
   "id": "67bbad16",
   "metadata": {},
   "outputs": [
    {
     "name": "stdout",
     "output_type": "stream",
     "text": [
      "['Jawahar Lal Nehru', '']\n"
     ]
    }
   ],
   "source": [
    "print(name)"
   ]
  },
  {
   "cell_type": "code",
   "execution_count": null,
   "id": "0ba24897",
   "metadata": {},
   "outputs": [],
   "source": []
  },
  {
   "cell_type": "code",
   "execution_count": null,
   "id": "d76b1a6c",
   "metadata": {},
   "outputs": [],
   "source": []
  },
  {
   "cell_type": "code",
   "execution_count": null,
   "id": "152d9426",
   "metadata": {},
   "outputs": [],
   "source": []
  },
  {
   "cell_type": "markdown",
   "id": "147fff13",
   "metadata": {},
   "source": [
    "Question No : 10"
   ]
  },
  {
   "cell_type": "code",
   "execution_count": 71,
   "id": "5a46d3cb",
   "metadata": {},
   "outputs": [],
   "source": [
    "driver9=webdriver.Chrome(r\"\\Users\\SWASTIKA\\chromedriver_win32.zip\\chromedriver.exe\")"
   ]
  },
  {
   "cell_type": "code",
   "execution_count": 72,
   "id": "ac01be84",
   "metadata": {},
   "outputs": [],
   "source": [
    "driver9.get(\"https://www.motor1.com/\")"
   ]
  },
  {
   "cell_type": "code",
   "execution_count": 74,
   "id": "1edadf76",
   "metadata": {},
   "outputs": [],
   "source": [
    "moto=driver9.find_element(By.XPATH,'/html/body/div[3]/div[2]/div/div/div[1]/div')\n",
    "moto.click()"
   ]
  },
  {
   "cell_type": "code",
   "execution_count": 78,
   "id": "747c8264",
   "metadata": {},
   "outputs": [],
   "source": [
    "exe=driver9.find_element(By.XPATH,'/html/body/div[4]/div[1]/div[3]/ul/li[5]')\n",
    "exe.click()"
   ]
  },
  {
   "cell_type": "code",
   "execution_count": 81,
   "id": "c92c6ca3",
   "metadata": {},
   "outputs": [],
   "source": [
    "car=driver9.find_element(By.CLASS_NAME,'text-box')\n",
    "car.click()"
   ]
  },
  {
   "cell_type": "code",
   "execution_count": 82,
   "id": "ae8d93cf",
   "metadata": {},
   "outputs": [],
   "source": [
    "car_name=[]\n",
    "price=[]"
   ]
  },
  {
   "cell_type": "code",
   "execution_count": 87,
   "id": "5521c358",
   "metadata": {},
   "outputs": [],
   "source": [
    "name_tag=driver9.find_elements(By.XPATH,'//h3[@class=\"subheader\"]')\n",
    "for i in name_tag[0:50]:\n",
    "    name=i.text\n",
    "    car_name.append(name)\n",
    "\n",
    "price_tag=driver9.find_elements(By.XPATH,'//p[@class=\"__web-inspector-hide-shortcut__\"]')\n",
    "for i in price_tag[0:50]:\n",
    "    pri=i.text\n",
    "    price.append(pri)"
   ]
  },
  {
   "cell_type": "code",
   "execution_count": 88,
   "id": "a1e7b0f9",
   "metadata": {},
   "outputs": [
    {
     "name": "stdout",
     "output_type": "stream",
     "text": [
      "100 1\n"
     ]
    }
   ],
   "source": [
    "print(len(car_name),len(price))"
   ]
  },
  {
   "cell_type": "code",
   "execution_count": null,
   "id": "fddc7816",
   "metadata": {},
   "outputs": [],
   "source": []
  }
 ],
 "metadata": {
  "kernelspec": {
   "display_name": "Python 3 (ipykernel)",
   "language": "python",
   "name": "python3"
  },
  "language_info": {
   "codemirror_mode": {
    "name": "ipython",
    "version": 3
   },
   "file_extension": ".py",
   "mimetype": "text/x-python",
   "name": "python",
   "nbconvert_exporter": "python",
   "pygments_lexer": "ipython3",
   "version": "3.9.12"
  }
 },
 "nbformat": 4,
 "nbformat_minor": 5
}
