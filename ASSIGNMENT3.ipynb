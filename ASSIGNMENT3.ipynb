{
 "cells": [
  {
   "cell_type": "code",
   "execution_count": 2,
   "id": "6b9aef22",
   "metadata": {},
   "outputs": [
    {
     "name": "stdout",
     "output_type": "stream",
     "text": [
      "Requirement already satisfied: selenium in c:\\users\\swastika\\anaconda3\\lib\\site-packages (4.8.0)\n",
      "Requirement already satisfied: urllib3[socks]~=1.26 in c:\\users\\swastika\\anaconda3\\lib\\site-packages (from selenium) (1.26.9)\n",
      "Requirement already satisfied: trio-websocket~=0.9 in c:\\users\\swastika\\anaconda3\\lib\\site-packages (from selenium) (0.9.2)\n",
      "Requirement already satisfied: certifi>=2021.10.8 in c:\\users\\swastika\\anaconda3\\lib\\site-packages (from selenium) (2021.10.8)\n",
      "Requirement already satisfied: trio~=0.17 in c:\\users\\swastika\\anaconda3\\lib\\site-packages (from selenium) (0.22.0)\n",
      "Requirement already satisfied: cffi>=1.14 in c:\\users\\swastika\\anaconda3\\lib\\site-packages (from trio~=0.17->selenium) (1.15.0)\n",
      "Requirement already satisfied: sniffio in c:\\users\\swastika\\anaconda3\\lib\\site-packages (from trio~=0.17->selenium) (1.2.0)\n",
      "Requirement already satisfied: sortedcontainers in c:\\users\\swastika\\anaconda3\\lib\\site-packages (from trio~=0.17->selenium) (2.4.0)\n",
      "Requirement already satisfied: exceptiongroup>=1.0.0rc9 in c:\\users\\swastika\\anaconda3\\lib\\site-packages (from trio~=0.17->selenium) (1.1.0)\n",
      "Requirement already satisfied: outcome in c:\\users\\swastika\\anaconda3\\lib\\site-packages (from trio~=0.17->selenium) (1.2.0)\n",
      "Requirement already satisfied: attrs>=19.2.0 in c:\\users\\swastika\\anaconda3\\lib\\site-packages (from trio~=0.17->selenium) (21.4.0)\n",
      "Requirement already satisfied: async-generator>=1.9 in c:\\users\\swastika\\anaconda3\\lib\\site-packages (from trio~=0.17->selenium) (1.10)\n",
      "Requirement already satisfied: idna in c:\\users\\swastika\\anaconda3\\lib\\site-packages (from trio~=0.17->selenium) (3.3)\n",
      "Requirement already satisfied: pycparser in c:\\users\\swastika\\anaconda3\\lib\\site-packages (from cffi>=1.14->trio~=0.17->selenium) (2.21)\n",
      "Requirement already satisfied: wsproto>=0.14 in c:\\users\\swastika\\anaconda3\\lib\\site-packages (from trio-websocket~=0.9->selenium) (1.2.0)\n",
      "Requirement already satisfied: PySocks!=1.5.7,<2.0,>=1.5.6 in c:\\users\\swastika\\anaconda3\\lib\\site-packages (from urllib3[socks]~=1.26->selenium) (1.7.1)\n",
      "Requirement already satisfied: h11<1,>=0.9.0 in c:\\users\\swastika\\anaconda3\\lib\\site-packages (from wsproto>=0.14->trio-websocket~=0.9->selenium) (0.14.0)\n"
     ]
    }
   ],
   "source": [
    "!pip install selenium"
   ]
  },
  {
   "cell_type": "code",
   "execution_count": 3,
   "id": "1882156b",
   "metadata": {},
   "outputs": [
    {
     "name": "stdout",
     "output_type": "stream",
     "text": [
      "Requirement already satisfied: bs4 in c:\\users\\swastika\\anaconda3\\lib\\site-packages (0.0.1)\n",
      "Requirement already satisfied: beautifulsoup4 in c:\\users\\swastika\\anaconda3\\lib\\site-packages (from bs4) (4.11.1)\n",
      "Requirement already satisfied: soupsieve>1.2 in c:\\users\\swastika\\anaconda3\\lib\\site-packages (from beautifulsoup4->bs4) (2.3.1)\n"
     ]
    }
   ],
   "source": [
    "!pip install bs4"
   ]
  },
  {
   "cell_type": "code",
   "execution_count": 4,
   "id": "0104f194",
   "metadata": {},
   "outputs": [],
   "source": [
    "import selenium\n",
    "import pandas as pd\n",
    "from selenium import webdriver\n",
    "import warnings\n",
    "warnings.filterwarnings('ignore')\n",
    "from selenium.webdriver.common.by import By\n",
    "import time\n",
    "from selenium.common.exceptions import NoSuchElementException\n"
   ]
  },
  {
   "cell_type": "code",
   "execution_count": 5,
   "id": "d5eaccfc",
   "metadata": {},
   "outputs": [],
   "source": [
    "import requests"
   ]
  },
  {
   "cell_type": "code",
   "execution_count": 6,
   "id": "9545dfe3",
   "metadata": {},
   "outputs": [],
   "source": [
    "from bs4 import BeautifulSoup"
   ]
  },
  {
   "cell_type": "markdown",
   "id": "083daebd",
   "metadata": {},
   "source": [
    "Question 1"
   ]
  },
  {
   "cell_type": "code",
   "execution_count": 22,
   "id": "b22ea052",
   "metadata": {},
   "outputs": [],
   "source": [
    "driver=webdriver.Chrome(r\"C:\\Users\\SWASTIKA\\chromedriver_win32.zip\\chromedriver.exe\")"
   ]
  },
  {
   "cell_type": "code",
   "execution_count": 23,
   "id": "748a38fb",
   "metadata": {},
   "outputs": [],
   "source": [
    "driver.get(\"https://www.amazon.in/\")"
   ]
  },
  {
   "cell_type": "code",
   "execution_count": 24,
   "id": "cea0decf",
   "metadata": {},
   "outputs": [],
   "source": [
    "s1=driver.find_element(By.XPATH,\"/html/body/div[1]/header/div/div[1]/div[2]/div/form/div[2]/div[1]/input\")\n",
    "s1.send_keys(\"guitar\")"
   ]
  },
  {
   "cell_type": "code",
   "execution_count": 25,
   "id": "6f3c06f0",
   "metadata": {},
   "outputs": [],
   "source": [
    "s2=driver.find_element(By.XPATH,\"/html/body/div[1]/header/div/div[1]/div[2]/div/form/div[3]/div/span/input\")\n",
    "s2.click()\n",
    "time.sleep(3)"
   ]
  },
  {
   "cell_type": "code",
   "execution_count": 26,
   "id": "5603ce45",
   "metadata": {},
   "outputs": [],
   "source": [
    "product_urls=[]\n",
    "#start=0\n",
    "#end=2\n",
    "for page in range(0,3):\n",
    "    url=driver.find_elements(By.XPATH,'//a[@class=\"a-link-normal s-underline-text s-underline-link-text s-link-style a-text-normal\"]')\n",
    "    for i in url:\n",
    "        product_urls.append(i.get_attribute(\"herf\"))\n",
    "    next_button=driver.find_element(By.XPATH,'//a[@class=\"s-pagination-item s-pagination-next s-pagination-button s-pagination-separator\"]')\n",
    "    next_button.click()\n",
    "    time.sleep(3)"
   ]
  },
  {
   "cell_type": "code",
   "execution_count": 27,
   "id": "9aa57c75",
   "metadata": {},
   "outputs": [],
   "source": [
    "brand_name=[]\n",
    "name_of_the_product=[]\n",
    "price=[]\n",
    "return_exchange=[]\n",
    "expected_delivery=[]\n",
    "availability=[]\n",
    "product_url=[]"
   ]
  },
  {
   "cell_type": "code",
   "execution_count": 28,
   "id": "a6e1cf60",
   "metadata": {},
   "outputs": [],
   "source": [
    "for url in product_urls[0:]:\n",
    "    driver.get(url)\n",
    "    time.sleep(3)\n",
    "\n",
    "    \n",
    "    try:\n",
    "        brand=driver.find_element(By.Xpath,'//span[@class=\"a-size-base po-break-word\"]')\n",
    "        brand_name.append(brand.text)\n",
    "    except NoSuchElementException:\n",
    "        brand_name.append('_')\n",
    "        \n",
    "    try:\n",
    "        product=driver.find_element(By.XPATH,'//span[@class=\"a-size-large product-title-word-break\"]')\n",
    "        name_of_the_product.append(product.text)\n",
    "    except NoSuchElementException:\n",
    "        name_of_the_product.append('_')\n",
    "        \n",
    "    try:\n",
    "        pri=driver.find_element(By.XPATH,'//span[@class=\"a-price-whole\"]')\n",
    "        price.append(pri.text)\n",
    "    except NoSuchElementException:\n",
    "        price.append('_')\n",
    "        \n",
    "    try:\n",
    "        rex=driver.find_element(By.XPATH,'//a[@class=\"a-size-small a-link-normal a-text-normal\"]')\n",
    "        return_exchange.append(rex.text)\n",
    "    except NoSuchElementException:\n",
    "        return_exchang.append('_')\n",
    "    \n",
    "    try:\n",
    "        exd=driver.find_element(By.XPATH,'//span[@class=\"a-text-bold\"]')\n",
    "        expected_delivery.append(exd.text)\n",
    "    except NoSuchElementException:\n",
    "        expected_delivery.append('_')\n",
    "        \n",
    "    try:\n",
    "        ava=driver.find_element(By.XPATH,'//span[@class=\"a-size-medium a-color-success\"]')\n",
    "        availability.append(ava.text)\n",
    "    except NoSuchElementException:\n",
    "        availability.append('_')\n",
    "        \n",
    "    try:\n",
    "        pro=driver.find_element(By.XPATH,'//span[@class=\"ac-keyword-link\"]')\n",
    "        product_url.append(i.get_attribute(\"href\"))\n",
    "    except NoSuchElementException:\n",
    "        product_url.append(\"_\")\n",
    "        "
   ]
  },
  {
   "cell_type": "code",
   "execution_count": 34,
   "id": "70aa2665",
   "metadata": {},
   "outputs": [
    {
     "name": "stdout",
     "output_type": "stream",
     "text": [
      "0 0 0 0 0 0 0\n"
     ]
    }
   ],
   "source": [
    "print(len(brand_name),len(name_of_the_product),len(price),len(return_exchange),len(expected_delivery),len(availability),len(product_url))"
   ]
  },
  {
   "cell_type": "code",
   "execution_count": 71,
   "id": "ed149908",
   "metadata": {},
   "outputs": [
    {
     "data": {
      "text/html": [
       "<div>\n",
       "<style scoped>\n",
       "    .dataframe tbody tr th:only-of-type {\n",
       "        vertical-align: middle;\n",
       "    }\n",
       "\n",
       "    .dataframe tbody tr th {\n",
       "        vertical-align: top;\n",
       "    }\n",
       "\n",
       "    .dataframe thead th {\n",
       "        text-align: right;\n",
       "    }\n",
       "</style>\n",
       "<table border=\"1\" class=\"dataframe\">\n",
       "  <thead>\n",
       "    <tr style=\"text-align: right;\">\n",
       "      <th></th>\n",
       "      <th>Brand NAme</th>\n",
       "      <th>Name of the Product</th>\n",
       "      <th>Price</th>\n",
       "      <th>Return/Exchange</th>\n",
       "      <th>Expected Delivery</th>\n",
       "      <th>Availability</th>\n",
       "      <th>Product URL</th>\n",
       "    </tr>\n",
       "  </thead>\n",
       "  <tbody>\n",
       "  </tbody>\n",
       "</table>\n",
       "</div>"
      ],
      "text/plain": [
       "Empty DataFrame\n",
       "Columns: [Brand NAme, Name of the Product, Price, Return/Exchange, Expected Delivery, Availability, Product URL]\n",
       "Index: []"
      ]
     },
     "execution_count": 71,
     "metadata": {},
     "output_type": "execute_result"
    }
   ],
   "source": [
    "df=pd.DataFrame({'Brand NAme':brand_name,'Name of the Product':name_of_the_product,'Price':price,'Return/Exchange':return_exchange,'Expected Delivery':expected_delivery,'Availability':availability,'Product URL':product_url})\n",
    "df"
   ]
  },
  {
   "cell_type": "markdown",
   "id": "78a339d7",
   "metadata": {},
   "source": [
    "Question 3"
   ]
  },
  {
   "cell_type": "code",
   "execution_count": 4,
   "id": "b4fbe843",
   "metadata": {},
   "outputs": [],
   "source": [
    "driver1=webdriver.Chrome(r\"C:\\Users\\SWASTIKA\\chromedriver_win32.zip\\chromedriver.exe\")"
   ]
  },
  {
   "cell_type": "code",
   "execution_count": 7,
   "id": "7333f37b",
   "metadata": {},
   "outputs": [],
   "source": [
    "driver1.get('https://images.google.com/')"
   ]
  },
  {
   "cell_type": "code",
   "execution_count": 8,
   "id": "726a8047",
   "metadata": {},
   "outputs": [],
   "source": [
    "search=driver1.find_element(By.XPATH,'/html/body/div[1]/div[3]/form/div[1]/div[1]/div[1]/div/div[2]/input')\n",
    "search.send_keys(\"fruits\")\n",
    "search_button=driver1.find_element(By.XPATH,'/html/body/div[1]/div[3]/form/div[1]/div[1]/div[1]/button/div/span')\n",
    "search_button.click()"
   ]
  },
  {
   "cell_type": "code",
   "execution_count": 10,
   "id": "bd9e0f0e",
   "metadata": {},
   "outputs": [
    {
     "ename": "TypeError",
     "evalue": "'WebElement' object is not iterable",
     "output_type": "error",
     "traceback": [
      "\u001b[1;31m---------------------------------------------------------------------------\u001b[0m",
      "\u001b[1;31mTypeError\u001b[0m                                 Traceback (most recent call last)",
      "Input \u001b[1;32mIn [10]\u001b[0m, in \u001b[0;36m<cell line: 8>\u001b[1;34m()\u001b[0m\n\u001b[0;32m      6\u001b[0m image_url\u001b[38;5;241m=\u001b[39m[]\n\u001b[0;32m      7\u001b[0m image_data\u001b[38;5;241m=\u001b[39m[]\n\u001b[1;32m----> 8\u001b[0m \u001b[38;5;28;01mfor\u001b[39;00m image \u001b[38;5;129;01min\u001b[39;00m images:\n\u001b[0;32m      9\u001b[0m     source\u001b[38;5;241m=\u001b[39mimage\u001b[38;5;241m.\u001b[39mget_attribute(\u001b[38;5;124m'\u001b[39m\u001b[38;5;124msrc\u001b[39m\u001b[38;5;124m'\u001b[39m)\n\u001b[0;32m     10\u001b[0m     \u001b[38;5;28;01mif\u001b[39;00m source \u001b[38;5;129;01mis\u001b[39;00m \u001b[38;5;129;01mnot\u001b[39;00m \u001b[38;5;28;01mNone\u001b[39;00m:\n",
      "\u001b[1;31mTypeError\u001b[0m: 'WebElement' object is not iterable"
     ]
    }
   ],
   "source": [
    "for _ in range(10):\n",
    "    driver1.execute_script(\"window.scrollBy(0,1000)\")\n",
    "    \n",
    "images=driver1.find_element(By.XPATH,'//div[@class=\" bRMDJf islir\"]')\n",
    "\n",
    "image_url=[]\n",
    "image_data=[]\n",
    "for image in images:\n",
    "    source=image.get_attribute('src')\n",
    "    if source is not None:\n",
    "        if(source[0:4] == 'http'):\n",
    "            image_url.append(source)\n",
    "            \n",
    "for i in range(len(image_url)):\n",
    "    if i > 10:\n",
    "        breakBy.XPATH,\n",
    "    print(\"Dowanloding {0} of {1} images\" .format(i,10))\n",
    "    response=request.get(image_url[i])\n",
    "    file=open(r\"C:\\Users\\SWASTIKA\\Desktop\\image\"+str(i)+\"jpg\",\"wb\")\n",
    "    file.write(response.content)"
   ]
  },
  {
   "cell_type": "markdown",
   "id": "82e1cb9f",
   "metadata": {},
   "source": [
    "Question 4"
   ]
  },
  {
   "cell_type": "code",
   "execution_count": 37,
   "id": "166b8de6",
   "metadata": {},
   "outputs": [],
   "source": [
    "driver2=webdriver.Chrome(r\"C:\\Users\\SWASTIKA\\chromedriver_win32.zip\\chromedriver.exe\")\n",
    "driver2.get(\"https://www.flipkart.com/\")"
   ]
  },
  {
   "cell_type": "code",
   "execution_count": 38,
   "id": "243520b8",
   "metadata": {},
   "outputs": [],
   "source": [
    "login_button=driver2.find_element(By.XPATH,'//button[@class=\"_2KpZ6l _2doB4z\"]')\n",
    "login_button.click()"
   ]
  },
  {
   "cell_type": "code",
   "execution_count": 39,
   "id": "54050b6b",
   "metadata": {},
   "outputs": [],
   "source": [
    "search=driver2.find_element(By.XPATH,'/html/body/div[1]/div/div[1]/div[1]/div[2]/div[2]/form/div/div/input')\n",
    "search.send_keys(\"Oneplus Nord\")\n",
    "search_button=driver2.find_element(By.XPATH,'/html/body/div[1]/div/div[1]/div[1]/div[2]/div[2]/form/div/button')\n",
    "search_button.click()"
   ]
  },
  {
   "cell_type": "code",
   "execution_count": 40,
   "id": "a9bd40e1",
   "metadata": {},
   "outputs": [
    {
     "ename": "AttributeError",
     "evalue": "'WebElement' object has no attribute 'get_attridute'",
     "output_type": "error",
     "traceback": [
      "\u001b[1;31m---------------------------------------------------------------------------\u001b[0m",
      "\u001b[1;31mAttributeError\u001b[0m                            Traceback (most recent call last)",
      "Input \u001b[1;32mIn [40]\u001b[0m, in \u001b[0;36m<cell line: 3>\u001b[1;34m()\u001b[0m\n\u001b[0;32m      2\u001b[0m urls\u001b[38;5;241m=\u001b[39mdriver2\u001b[38;5;241m.\u001b[39mfind_elements(By\u001b[38;5;241m.\u001b[39mXPATH,\u001b[38;5;124m'\u001b[39m\u001b[38;5;124m//a[@class=\u001b[39m\u001b[38;5;124m\"\u001b[39m\u001b[38;5;124m_1fQZEK\u001b[39m\u001b[38;5;124m\"\u001b[39m\u001b[38;5;124m]\u001b[39m\u001b[38;5;124m'\u001b[39m)\n\u001b[0;32m      3\u001b[0m \u001b[38;5;28;01mfor\u001b[39;00m url \u001b[38;5;129;01min\u001b[39;00m urls:\n\u001b[1;32m----> 4\u001b[0m     product_url\u001b[38;5;241m.\u001b[39mappend(\u001b[43murl\u001b[49m\u001b[38;5;241;43m.\u001b[39;49m\u001b[43mget_attridute\u001b[49m(\u001b[38;5;124m'\u001b[39m\u001b[38;5;124mherf\u001b[39m\u001b[38;5;124m'\u001b[39m))\n\u001b[0;32m      5\u001b[0m time\u001b[38;5;241m.\u001b[39msleep(\u001b[38;5;241m3\u001b[39m)\n",
      "\u001b[1;31mAttributeError\u001b[0m: 'WebElement' object has no attribute 'get_attridute'"
     ]
    }
   ],
   "source": [
    "product_url=[]\n",
    "urls=driver2.find_elements(By.XPATH,'//a[@class=\"_1fQZEK\"]')\n",
    "for url in urls:\n",
    "    product_url.append(url.get_attridute('herf'))\n",
    "time.sleep(3)"
   ]
  },
  {
   "cell_type": "code",
   "execution_count": 41,
   "id": "83ccf30e",
   "metadata": {},
   "outputs": [],
   "source": [
    "brand_name=[]\n",
    "smartphone_name=[]\n",
    "colour=[]\n",
    "ram=[]\n",
    "storage=[]\n",
    "primary_camera=[]\n",
    "secondary_camera=[]\n",
    "display_size=[]\n",
    "battery_capacity=[]\n",
    "price=[]\n",
    "product_url=[]"
   ]
  },
  {
   "cell_type": "code",
   "execution_count": 42,
   "id": "f018ceda",
   "metadata": {},
   "outputs": [],
   "source": [
    "for i in product_url:\n",
    "    driver2.get(urls)\n",
    "    time.sleep()\n",
    "    \n",
    "    try:\n",
    "        brand=driver2.find_elements(By.Xpath,'//span[@class=\"B_NuCI\"]')\n",
    "        brand_name.append(brand.text)\n",
    "    except NoSuchElementException:\n",
    "        brand_name.append('_')\n",
    "    \n",
    "    try:\n",
    "        name=driver2.find_element(By.Xpath,'//div[@class=\"_3k-BhJ\"][1]/table/tbody/tr[3]/td[2]/ul/li')\n",
    "        smartphone_name.append(name.text)\n",
    "    except NoSuchElementException:\n",
    "        smartphonr_name.append('_')\n",
    "    \n",
    "    try:\n",
    "        col=driver2.find_element(By.XPATH,'//div[@class=\"_3k-BhJ\"][1]/table/tbody/tr[4]/td[2]/ul/li')\n",
    "        colour.append(col.text)\n",
    "    except NoSuchElementException:\n",
    "        colour.append('_')\n",
    "        \n",
    "    try:\n",
    "        ram_tag=driver.find_element(By.XPATH,'//div[@class=\"_3k-BhJ\"][table/tbody/tr[2]/td[2]/ul/li]')\n",
    "        ram.append(ram_tag.text)\n",
    "    except NoSuchElementException:\n",
    "        ram.append('_')\n",
    "        \n",
    "    try:\n",
    "        storag_tag=driver.find_element(By.XPATH,'//div[@class=\"_3k-BhJ\"][table/tbody/tr[1]/td[2]/ul/li]')\n",
    "        storage.append(storage_tag.text)\n",
    "    except NoSuchElementException:\n",
    "        storage.append('_')\n",
    "        \n",
    "    try:\n",
    "        p_camera=driver.find_element(By.Xpath,'//div[@class=\"_3k-BhJ\"][table/tbody/tr/td[2]/ul/li]')\n",
    "        primary_camera.append(p_camera.text)\n",
    "    except NoSuchElementException:\n",
    "        primary_camera.append('_')\n",
    "        \n",
    "    try:\n",
    "        sec = driver.find_element_by_xpath(\"//div[@class='_3k-BhJ'][5]/table[1]/tbody/tr[6]/td[1]\")\n",
    "        if sec != 'Secondary Camera' :\n",
    "            if driver.find_element_by_xpath(\"//div[@class='_3k-BhJ'][5]/table[1]/tbody/tr[5]/td[1]\").text == \"Secondary Camera\":\n",
    "                sec_cam =driver.find_element_by_xpath(\"//div[@class='_3k-BhJ'][5]/table[1]/tbody/tr[5]/td[2]/ul/li\")\n",
    "            else :\n",
    "                raise NoSuchElementException\n",
    "        else :\n",
    "            sec_cam = driver.find_element_by_xpath(\"//div[@class='_3k-BhJ'][5]/table[1]/tbody/tr[6]/td[2]/ul/li\")\n",
    "        Smartphones['Secondary Camera'].append(sec_cam.text)\n",
    "    except NoSuchElementException:\n",
    "        Smartphones['Secondary Camera'].append('-')\n",
    "        \n",
    "    try:\n",
    "        disp = driver.find_element_by_xpath(\"//div[@class='_3k-BhJ'][2]/div\")\n",
    "        if disp.text != 'Display Features' : raise NoSuchElementException\n",
    "        disp_size = driver.find_element_by_xpath(\"//div[@class='_3k-BhJ'][2]/table[1]/tbody/tr[1]/td[2]/ul/li\")\n",
    "        Smartphones['Display Size'].append(disp_size.text)\n",
    "    except NoSuchElementException:\n",
    "        Smartphones['Display Size'].append('-')\n",
    "    \n",
    "    try:\n",
    "        b_capacity=diver.find_elements(ByXPATH,'//div[@class=\"_3k-BhJ\"]/div[7]/table/tbody/tr/td[2]/ul/li')\n",
    "        battery_capacity.append(b_capacity.text)\n",
    "    except NoSuchElementException:\n",
    "        battery_capacity.append('_')\n",
    "        \n",
    "    try:\n",
    "        pri=driver.find_elements(By.XPATH,'//div[@class=\"_30jeq3 _16Jk6d\"]')\n",
    "        price.append(pri.text)\n",
    "    except NoSuchElementException:\n",
    "        price.append('_')\n",
    "        \n",
    "    try:\n",
    "        pro_url=driver.find_elements(By.XPATH,'//a[@class=\"_1fQZEK\"]')\n",
    "        product_url.append(url.get_attributr(\"herf\"))\n",
    "    except NoSuchElementException:\n",
    "        pass"
   ]
  },
  {
   "cell_type": "markdown",
   "id": "ce93c1fa",
   "metadata": {},
   "source": [
    "Question 5"
   ]
  },
  {
   "cell_type": "code",
   "execution_count": 7,
   "id": "0ebb1fe9",
   "metadata": {},
   "outputs": [],
   "source": [
    "driver=webdriver.Chrome(r\"C:\\Users\\SWASTIKA\\chromedriver_win32.zip\\chromedriver.exe\")"
   ]
  },
  {
   "cell_type": "code",
   "execution_count": 8,
   "id": "c6b4c0e0",
   "metadata": {},
   "outputs": [],
   "source": [
    "url = 'https://www.google.co.in/maps'\n",
    "driver.get(url)\n",
    "time.sleep(2)"
   ]
  },
  {
   "cell_type": "code",
   "execution_count": 9,
   "id": "69c04376",
   "metadata": {},
   "outputs": [
    {
     "name": "stdout",
     "output_type": "stream",
     "text": [
      "Enter City name that has to be searched : dehli\n"
     ]
    }
   ],
   "source": [
    "City = input('Enter City name that has to be searched : ')"
   ]
  },
  {
   "cell_type": "code",
   "execution_count": 15,
   "id": "3054e911",
   "metadata": {},
   "outputs": [],
   "source": [
    "search_bar=driver.find_element(By.XPATH,'//input[@class=\"tactile-searchbox-input\"]')\n",
    "search_bar.click()\n",
    "time.sleep(3)"
   ]
  },
  {
   "cell_type": "code",
   "execution_count": 16,
   "id": "8ad8a3bb",
   "metadata": {},
   "outputs": [],
   "source": [
    "search_bar.send_keys(City)"
   ]
  },
  {
   "cell_type": "code",
   "execution_count": 17,
   "id": "b539a745",
   "metadata": {},
   "outputs": [],
   "source": [
    "search_button=driver.find_element(By.XPATH,'//button[@class=\"mL3xi\"]')\n",
    "search_button.click()\n",
    "time.sleep(3)"
   ]
  },
  {
   "cell_type": "code",
   "execution_count": 18,
   "id": "a1973233",
   "metadata": {},
   "outputs": [
    {
     "name": "stdout",
     "output_type": "stream",
     "text": [
      "URL Extracted:  https://www.google.co.in/maps/place/Delhi/@28.6437954,76.8130369,10z/data=!3m1!4b1!4m6!3m5!1s0x390cfd5b347eb62d:0x37205b715389640!8m2!3d28.7040592!4d77.1024902!16zL20vMDlmMDc\n",
      "Error:  name 're' is not defined\n"
     ]
    }
   ],
   "source": [
    "try:\n",
    "    url_str = driver.current_url\n",
    "    print(\"URL Extracted: \", url_str)\n",
    "    latitude_longitude = re.findall(r'@(.*)data',url_str)\n",
    "    if len(latitude_longitude):\n",
    "        lat_lng_list = latitude_longitude[0].split(\",\")\n",
    "        if len(lat_lng_list)>=2:\n",
    "            latitude = lat_lng_list[0]\n",
    "            longitude = lat_lng_list[1]\n",
    "        print(\"Latitude = {}, Longitude = {}\".format(latitude, longitude))\n",
    "except Exception as e:\n",
    "        print(\"Error: \", str(e))"
   ]
  },
  {
   "cell_type": "code",
   "execution_count": 19,
   "id": "99ba63d6",
   "metadata": {},
   "outputs": [],
   "source": [
    "driver.close()"
   ]
  },
  {
   "cell_type": "markdown",
   "id": "6149ebaa",
   "metadata": {},
   "source": [
    "Question 6"
   ]
  },
  {
   "cell_type": "code",
   "execution_count": 58,
   "id": "f5a9794c",
   "metadata": {},
   "outputs": [],
   "source": [
    "driver3=webdriver.Chrome(r\"C:\\Users\\SWASTIKA\\chromedriver_win32.zip\\chromedriver.exe\")\n",
    "driver3.get(\"https://www.digit.in/\")"
   ]
  },
  {
   "cell_type": "code",
   "execution_count": 60,
   "id": "e30e399e",
   "metadata": {},
   "outputs": [],
   "source": [
    "laptop_tag=driver3.find_element(By.XPATH,'/html/body/div[2]/div/ul/li[2]/a')\n",
    "laptop_tag.click()"
   ]
  },
  {
   "cell_type": "code",
   "execution_count": 61,
   "id": "e10d1f46",
   "metadata": {},
   "outputs": [],
   "source": [
    "best_tag=driver3.find_element(By.XPATH,'/html/body/div[2]/div/ul/li[2]/div/div/div[1]/span[4]')\n",
    "best_tag.click()"
   ]
  },
  {
   "cell_type": "code",
   "execution_count": 62,
   "id": "fe64d90d",
   "metadata": {},
   "outputs": [],
   "source": [
    "gamening_laptop=driver3.find_element(By.XPATH,'/html/body/div[2]/div/ul/li[2]/div/div/div[5]/div/div[2]/a/div')\n",
    "gamening_laptop.click()"
   ]
  },
  {
   "cell_type": "code",
   "execution_count": 64,
   "id": "96ed9a7c",
   "metadata": {},
   "outputs": [],
   "source": [
    "laptop_name=[]\n",
    "processor=[]\n",
    "display=[]\n",
    "os=[]\n",
    "memory=[]\n",
    "graphics_processor=[]\n",
    "body=[]\n",
    "price=[]"
   ]
  },
  {
   "cell_type": "code",
   "execution_count": 67,
   "id": "c3236ed0",
   "metadata": {},
   "outputs": [],
   "source": [
    "name_tag=driver3.find_elements(By.XPATH,'//div[@class=\"left_side\"]')\n",
    "for i in name_tag:\n",
    "    laptop_name.append(i.text)\n",
    "    \n",
    "try:\n",
    "    processor_tag=driver3.find_elements(By.XPATH,'//div[@class=\"Spcs-details\"]/table/tbody/tr[2]/td[3]')\n",
    "    for i in processor_tag:\n",
    "        processor.append(i.text)\n",
    "except NoSuchElementException:\n",
    "    pass\n",
    "try:\n",
    "    display_tag=driver3.find_elements(By.XPATH,'//div[@class=\"Spcs-details\"]/table/tbody/tr[3]/td[3]')\n",
    "    for i in display_tag:\n",
    "        display.append(i.text)\n",
    "except NoSuchElementException:\n",
    "    pass\n",
    "\n",
    "try:\n",
    "    os_tag=driver3.find_elements(By.XPATH,'//div[@class=\"value\"]')\n",
    "    for i in os_tag:\n",
    "        os.append(i.text)\n",
    "except NoSuchElementException:\n",
    "    pass\n",
    "\n",
    "try:\n",
    "    memory_tag=driver3.find_elements(By.XPATH,'//div[@class=\"Spcs-details\"]/table/tbody/tr[5]/td[3]')\n",
    "    for i in memory_tag:\n",
    "        memory.append(i.text)\n",
    "except NoSuchElementException:\n",
    "    pass\n",
    "\n",
    "try:\n",
    "    graphics_tag=driver3.find_elements(By.XPATH,'//div[@class=\"Spcs-details\"]/table/tbody/tr[6]/td[3]')\n",
    "    for i in graphics_tag:\n",
    "        graphics_processor.append(i.text)\n",
    "except NoSuchElementException:\n",
    "    pass\n",
    "\n",
    "try:\n",
    "    body_tag=driver3.find_elements(By.XPATH,'//div[@class=\"Spcs-details\"]/table/tbody/tr[7]/td[3]')\n",
    "    for i in body_tag:\n",
    "        body.append(i.text)\n",
    "except NoSuchElementException:\n",
    "    pass\n",
    "\n",
    "try:\n",
    "    price_tag=driver3.find_elements(By.XPATH,'//div[@class=\"Spcs-details\"]/table/tbody/tr[8]/td[3]')\n",
    "    for i in price_tag:\n",
    "        price.append(i.text)\n",
    "except NoSuchElementException:\n",
    "    price.append('_')\n",
    "    \n",
    "time.sleep(3)"
   ]
  },
  {
   "cell_type": "markdown",
   "id": "51dc51c3",
   "metadata": {},
   "source": [
    "Question 7"
   ]
  },
  {
   "cell_type": "code",
   "execution_count": 15,
   "id": "d6862fab",
   "metadata": {},
   "outputs": [],
   "source": [
    "driver3=webdriver.Chrome(r\"C:\\Users\\SWASTIKA\\chromedriver_win32.zip\\chromedriver.exe\")\n",
    "driver3.get(\"https://www.forbes.com/\")"
   ]
  },
  {
   "cell_type": "code",
   "execution_count": 16,
   "id": "8d203a0e",
   "metadata": {},
   "outputs": [],
   "source": [
    "click_tag=driver3.find_element(By.XPATH,'/html/body/div[1]/header/nav/div[1]/div/div/div')\n",
    "click_tag.click()"
   ]
  },
  {
   "cell_type": "code",
   "execution_count": 17,
   "id": "b963be04",
   "metadata": {},
   "outputs": [],
   "source": [
    "billionarior_tag=driver3.find_element(By.XPATH,'/html/body/div[1]/header/nav/div[1]/div/div/div[2]/ul/li[1]/div[1]')\n",
    "billionarior_tag.click()"
   ]
  },
  {
   "cell_type": "code",
   "execution_count": 18,
   "id": "b5d61b95",
   "metadata": {},
   "outputs": [],
   "source": [
    "world_billionarior=driver3.find_element(By.XPATH,'/html/body/div[1]/header/nav/div[1]/div/div/div[2]/ul/li[1]/div[2]/div[3]/ul/li[1]')\n",
    "world_billionarior.click()"
   ]
  },
  {
   "cell_type": "code",
   "execution_count": 20,
   "id": "f9b1ef70",
   "metadata": {},
   "outputs": [],
   "source": [
    "rank=[]\n",
    "name=[]\n",
    "net_worth=[]\n",
    "age=[]\n",
    "cityzenship=[]\n",
    "source=[]\n",
    "industry=[]"
   ]
  },
  {
   "cell_type": "code",
   "execution_count": 22,
   "id": "a4f09f99",
   "metadata": {},
   "outputs": [],
   "source": [
    "while(True):\n",
    "    rank_tag=driver3.find_elements(By.XPATH,'//div[@class=\"rank\"]')\n",
    "    for i in rank_tag:\n",
    "        ran=i.text\n",
    "        rank.append(ran)\n",
    "        \n",
    "    name_tag=driver3.find_elements(By.XPATH,'//div[@class=\"personName\"]/div')\n",
    "    for i in name_tag:\n",
    "        na=i.text\n",
    "        name.append(na)\n",
    "        \n",
    "    net_worth_tag=driver3.find_elements(By.XPATH,'//div[@class=\"netWorth\"]/div')\n",
    "    for i in net_worth_tag:\n",
    "        networth=i.text\n",
    "        net_worth.append(networth)\n",
    "        \n",
    "    age_tag=driver3.find_elements(By.XPATH,'//div[@class=\"age\"]/div')\n",
    "    for i in age_tag:\n",
    "        ag=i.text\n",
    "        age.append(ag)\n",
    "        \n",
    "    cityzenship_tag=driver3.find_elements(By.XPATH,'//div[@class=\"countryOfCitizenship\"]')\n",
    "    for i in cityzenship_tag:\n",
    "        city=i.text\n",
    "        cityzenship.append(city)\n",
    "        \n",
    "    source_tag=driver3.find_elements(By.XPATH,'//div[@class=\"source\"]/div')\n",
    "    for i in source_tag:\n",
    "        so=i.text\n",
    "        source.append(so)\n",
    "        \n",
    "    industry_tag=driver3.find_elements(By.XPATH,'//div[@class=\"category\"]/div')\n",
    "    for i in industry_tag:\n",
    "        ind=i.text\n",
    "        industry.append(ind)\n",
    "        \n",
    "    try:\n",
    "        next_button=driver3.find_elements(By.XPATH,'//button[@class=\"pagination-btn pagination-btn--next \"]')\n",
    "        next_button.click()\n",
    "    except:\n",
    "        break\n",
    "    time.sleep(3)"
   ]
  },
  {
   "cell_type": "markdown",
   "id": "5ce0be04",
   "metadata": {},
   "source": [
    "Question 8"
   ]
  },
  {
   "cell_type": "code",
   "execution_count": 20,
   "id": "ee0945fb",
   "metadata": {},
   "outputs": [],
   "source": [
    "driver=webdriver.Chrome(r\"C:\\Users\\SWASTIKA\\chromedriver_win32.zip\\chromedriver.exe\")"
   ]
  },
  {
   "cell_type": "code",
   "execution_count": 21,
   "id": "1d2669d1",
   "metadata": {},
   "outputs": [],
   "source": [
    "url = \"https://www.youtube.com/\"\n",
    "driver.get(url)\n",
    "time.sleep(2)"
   ]
  },
  {
   "cell_type": "code",
   "execution_count": 22,
   "id": "a4ece6fe",
   "metadata": {},
   "outputs": [],
   "source": [
    "search_bar=driver.find_element(By.XPATH,'//input[@class=\"ytd-searchbox\"]')\n",
    "search_bar.send_keys(\"GOT\")\n",
    "time.sleep(3)"
   ]
  },
  {
   "cell_type": "code",
   "execution_count": 23,
   "id": "fa506235",
   "metadata": {},
   "outputs": [],
   "source": [
    "search_button=driver.find_element(By.XPATH,'//button[@class=\"style-scope ytd-searchbox\"]')\n",
    "search_button.click()\n",
    "time.sleep(3)"
   ]
  },
  {
   "cell_type": "code",
   "execution_count": 27,
   "id": "16fc1cdb",
   "metadata": {},
   "outputs": [],
   "source": [
    "video=driver.find_element(By.XPATH,'//ytd-video-renderer[@class=\"style-scope ytd-item-section-renderer\"]')\n",
    "video.click()"
   ]
  },
  {
   "cell_type": "code",
   "execution_count": 29,
   "id": "c548ce1f",
   "metadata": {},
   "outputs": [],
   "source": [
    "for _ in range(10):\n",
    "    driver.execute_script(\"window.scrollBy(0,1000)\")"
   ]
  },
  {
   "cell_type": "code",
   "execution_count": 30,
   "id": "749c434b",
   "metadata": {},
   "outputs": [],
   "source": [
    "comments = []\n",
    "comment_time = []\n",
    "Time = []\n",
    "Likes = []\n",
    "No_of_Likes = []"
   ]
  },
  {
   "cell_type": "code",
   "execution_count": 33,
   "id": "3c624fd0",
   "metadata": {},
   "outputs": [],
   "source": [
    "cm = driver.find_elements(By.XPATH,'//div[@class=\"style-scope ytd-expander\"]')\n",
    "for i in cm:\n",
    "    if i.text is None:\n",
    "        comments.append(\"_\")\n",
    "    else:\n",
    "        comments.append(i.text)\n",
    "time.sleep(4)\n",
    "\n",
    "tm = driver.find_elements(By.XPATH,'//a[@class=\"yt-simple-endpoint style-scope yt-formatted-string\"]')\n",
    "for i in tm:\n",
    "    Time.append(i.text)\n",
    "    \n",
    "for i in range(0,len(Time),2):\n",
    "    comment_time.append(Time[i])\n",
    "time.sleep(4)\n",
    "\n",
    "like = driver.find_elements(By.XPATH,'//div[@class=\"style-scope ytd-comment-action-buttons-renderer\"]')\n",
    "for i in like:\n",
    "    Likes.append(i.text)\n",
    "    \n",
    "for i in range(1,len(Likes),2):\n",
    "    No_of_Likes.append(Likes[i])"
   ]
  },
  {
   "cell_type": "code",
   "execution_count": 36,
   "id": "c091bfbf",
   "metadata": {},
   "outputs": [
    {
     "name": "stdout",
     "output_type": "stream",
     "text": [
      "23 61 60\n"
     ]
    }
   ],
   "source": [
    "print(len(comments),len(comment_time),len(No_of_Likes))"
   ]
  },
  {
   "cell_type": "code",
   "execution_count": null,
   "id": "2d845b1b",
   "metadata": {},
   "outputs": [],
   "source": []
  },
  {
   "cell_type": "markdown",
   "id": "5f5fbfc5",
   "metadata": {},
   "source": [
    "Question 9"
   ]
  },
  {
   "cell_type": "code",
   "execution_count": 41,
   "id": "eaec40bd",
   "metadata": {},
   "outputs": [],
   "source": [
    "driver3=webdriver.Chrome(r\"C:\\Users\\SWASTIKA\\chromedriver_win32.zip\\chromedriver.exe\")\n",
    "driver3.get(\"https://www.hostelworld.com/\")"
   ]
  },
  {
   "cell_type": "code",
   "execution_count": 44,
   "id": "c11a7562",
   "metadata": {},
   "outputs": [],
   "source": [
    "search_tag=driver3.find_element(By.XPATH,'//input[@class=\"search-input\"]')\n",
    "search_tag.send_keys('London')"
   ]
  },
  {
   "cell_type": "code",
   "execution_count": 45,
   "id": "6e8051b5",
   "metadata": {},
   "outputs": [],
   "source": [
    "click_tag=driver3.find_element(By.XPATH,'/html/body/div[3]/div/div/div[2]/div[2]/div/div/div[4]/div/div[2]/div/div[1]/div/div/ul/li[2]/div')\n",
    "click_tag.click()"
   ]
  },
  {
   "cell_type": "code",
   "execution_count": 46,
   "id": "8b7acb60",
   "metadata": {},
   "outputs": [],
   "source": [
    "search_button=driver3.find_element(By.XPATH,'/html/body/div[3]/div/div/div[2]/div[2]/div/div/div[4]/div/div[2]/div/div[5]/button')\n",
    "search_button.click()"
   ]
  },
  {
   "cell_type": "code",
   "execution_count": 50,
   "id": "83d32d59",
   "metadata": {},
   "outputs": [],
   "source": [
    "name=[]\n",
    "distance_from_city_centre=[]\n",
    "ratings=[]\n",
    "total_reviews=[]\n",
    "overall_reviews=[]\n",
    "privates_from_price=[]\n",
    "dorms_from_price=[]\n",
    "facilities=[]\n",
    "property_description=[]"
   ]
  },
  {
   "cell_type": "code",
   "execution_count": 56,
   "id": "2fd5ee4e",
   "metadata": {},
   "outputs": [
    {
     "ename": "IndentationError",
     "evalue": "expected an indented block (1560334384.py, line 65)",
     "output_type": "error",
     "traceback": [
      "\u001b[1;36m  Input \u001b[1;32mIn [56]\u001b[1;36m\u001b[0m\n\u001b[1;33m    except NoSuchElementException:\u001b[0m\n\u001b[1;37m    ^\u001b[0m\n\u001b[1;31mIndentationError\u001b[0m\u001b[1;31m:\u001b[0m expected an indented block\n"
     ]
    }
   ],
   "source": [
    "while(True):\n",
    "    \n",
    "    try:\n",
    "        name_tag=driver3.find_elements(By.XPATH,'//h2[@class=\"title title-6\"]')\n",
    "        for i in name_tag:\n",
    "            name.append(i.text)\n",
    "    except NoSuchElementException:\n",
    "        name.append('_')\n",
    "        \n",
    "    try:\n",
    "        distance_tag=driver3.find_elements(By.XPATH,'//span[@class=\"description\"]/span')\n",
    "        for i in distance_tag:\n",
    "            distance_from_city_centre.append(i.text)\n",
    "    except NoSuchElementException:\n",
    "        distance_from_city_centre.append('_')\n",
    "    \n",
    "    try:\n",
    "        ratings_tag=driver3.find_elements(By.XPATH,'//div[@class=\"score orange big\"]')\n",
    "        for i in ratings_tag:\n",
    "            ratings.append(i.text)\n",
    "    except NoSuchElementException:\n",
    "        ratings.append('_')\n",
    "        \n",
    "    try:\n",
    "        treviews_tag=driver3.find_elements(By.XPATH,'//div[@class=\"reviews\"]')\n",
    "        for i in treviews_tag:\n",
    "            total_reviews.append(i.text)\n",
    "    except NoSuchElementException:\n",
    "        total_reviews.append('_')\n",
    "        \n",
    "    try:\n",
    "        oreviews_tag=driver3.find_elements(By.XPATH,'//div[@class=\"keyword\"]/span')\n",
    "        for i in oreviews_tag:\n",
    "            overall_reviews.append(i.text)\n",
    "    except NoSuchElementException:\n",
    "        overall_reviews.append('_')\n",
    "    \n",
    "    for i in driver3.find_elements(By.XPATH,'//div[@class=\"prices-col\"]'):\n",
    "    \n",
    "        try:\n",
    "            pvt_price=driver3.find_elements(By.XPATH,'//div[@class=\"price title-5]//div[2]/div')\n",
    "            for i in pvt_price:\n",
    "                privates_from_price.append(i.text)\n",
    "        except NoSuchElementException:\n",
    "            privates_from_price.append('_')\n",
    "    \n",
    "    for i in driver3.find_elements(By.XPATH,'//div[@class=\"prices-col\"]'):\n",
    "        try:\n",
    "            dro_price=driver3.find_elements(By.XPATH,'//div[@class=\"price title-5\"]//div[2]/div/')\n",
    "            for i in dro_price:\n",
    "                dorms_from_price.append(i.text)\n",
    "        except NoSuchElementException:\n",
    "            dorms_from_price.append('_')\n",
    "        \n",
    "    try:\n",
    "        facilities_tag=driver3_find_elements(By.XPATH,'//span[@class=\"rating body-3\"]/div[3]/span[2]/b')\n",
    "        for i in facilities_tag:\n",
    "            facilities.append(i.text)\n",
    "    except NoSuchElementException:\n",
    "        facilities.append('_')\n",
    "        \n",
    "    try:\n",
    "        property_tag=driver3.find+elements(By.XPATH,'//div[@class=\"facilities-label facilities\"]')\n",
    "        for i in property_tag:\n",
    "    except NoSuchElementException:\n",
    "        property_description.append('_')\n",
    "        \n",
    "    try:\n",
    "        next_button=driver3.find_elements(By.XPATH,'//div[@class=\"pagination-item pagination-last\"]')\n",
    "        next_button.click()\n",
    "    except:\n",
    "        pass"
   ]
  },
  {
   "cell_type": "code",
   "execution_count": null,
   "id": "f4445f4d",
   "metadata": {},
   "outputs": [],
   "source": []
  }
 ],
 "metadata": {
  "kernelspec": {
   "display_name": "Python 3 (ipykernel)",
   "language": "python",
   "name": "python3"
  },
  "language_info": {
   "codemirror_mode": {
    "name": "ipython",
    "version": 3
   },
   "file_extension": ".py",
   "mimetype": "text/x-python",
   "name": "python",
   "nbconvert_exporter": "python",
   "pygments_lexer": "ipython3",
   "version": "3.9.12"
  }
 },
 "nbformat": 4,
 "nbformat_minor": 5
}
