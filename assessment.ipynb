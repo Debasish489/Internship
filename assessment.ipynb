{
 "cells": [
  {
   "cell_type": "code",
   "execution_count": 7,
   "id": "b36884e0",
   "metadata": {},
   "outputs": [],
   "source": [
    "import pandas as pd\n",
    "import numpy as np\n",
    "import os\n",
    "import seaborn as sns\n",
    "import matplotlib.pyplot as plt"
   ]
  },
  {
   "cell_type": "code",
   "execution_count": null,
   "id": "2b4c697f",
   "metadata": {},
   "outputs": [],
   "source": [
    "directory_name = \"cleaned_data\"\n",
    "\n",
    "if not os.path.exists(directory_name):\n",
    "    os.makedirs(directory_name)"
   ]
  },
  {
   "cell_type": "code",
   "execution_count": null,
   "id": "5d98df21",
   "metadata": {},
   "outputs": [],
   "source": [
    "path = 'cleaned_data'\n",
    "\n",
    "csv_files = [os.path.join(path, f) for f in os.listdir(path) if f.endswith('.csv')]\n",
    "\n",
    "dfs = [pd.read_csv(f) for f in csv_files]\n",
    "\n",
    "df_final = pd.concat(dfs, ignore_index=False).groupby('DATE').sum()"
   ]
  },
  {
   "cell_type": "code",
   "execution_count": null,
   "id": "332f638d",
   "metadata": {},
   "outputs": [],
   "source": [
    "df_final.head()"
   ]
  },
  {
   "cell_type": "code",
   "execution_count": null,
   "id": "e9c1c0e8",
   "metadata": {},
   "outputs": [],
   "source": [
    "df_final.info()"
   ]
  },
  {
   "cell_type": "code",
   "execution_count": null,
   "id": "1f3a01bf",
   "metadata": {},
   "outputs": [],
   "source": [
    "df_final.describe()"
   ]
  },
  {
   "cell_type": "code",
   "execution_count": null,
   "id": "04bc27ab",
   "metadata": {},
   "outputs": [],
   "source": [
    "plt.figure(figsize=(12, 6))\n",
    "for col in df_final.columns.tolist():\n",
    "    plt.figure(figsize=(6, 4))\n",
    "    sns.displot(data=df_final, x=col, kde =True)\n",
    "    plt.xlabel(f\"{col}\")\n",
    "    plt.ylabel(\"Count\")\n",
    "    plt.title(f'Distribution Plot for {col}')\n",
    "    plt.show()"
   ]
  },
  {
   "cell_type": "code",
   "execution_count": null,
   "id": "e6ef4e89",
   "metadata": {},
   "outputs": [],
   "source": [
    "plt.figure(figsize=(12, 6))\n",
    "for col in df_final.columns.tolist():\n",
    "    plt.figure(figsize=(6, 4))\n",
    "    sns.boxplot(data=df_final, x=col)\n",
    "    plt.xlabel(f\"{col}\")\n",
    "    plt.title(f'Box Plot for {col}')\n",
    "    plt.show()"
   ]
  },
  {
   "cell_type": "code",
   "execution_count": null,
   "id": "df636497",
   "metadata": {},
   "outputs": [],
   "source": [
    "df_final['p_saving_rate'].skew()"
   ]
  },
  {
   "cell_type": "code",
   "execution_count": null,
   "id": "f2ee0d04",
   "metadata": {},
   "outputs": [],
   "source": [
    "q1 = df_final[\"p_saving_rate\"].quantile(0.25)\n",
    "q2 = df_final[\"p_saving_rate\"].quantile(0.75)\n",
    "\n",
    "IQR =q2-q1"
   ]
  },
  {
   "cell_type": "code",
   "execution_count": null,
   "id": "0605138b",
   "metadata": {},
   "outputs": [],
   "source": [
    "lower_bridge=q1-(IQR*1.5)\n",
    "upper_bridge=q2+(IQR*1.5)\n",
    "print(lower_bridge), print(upper_bridge)"
   ]
  },
  {
   "cell_type": "code",
   "execution_count": null,
   "id": "feffdfbc",
   "metadata": {},
   "outputs": [],
   "source": [
    "df_final.loc[df_final['p_saving_rate'] >=upper_bridge,'p_saving_rate'] = upper_bridge"
   ]
  },
  {
   "cell_type": "code",
   "execution_count": null,
   "id": "012b1f7b",
   "metadata": {},
   "outputs": [],
   "source": [
    "df_final['p_saving_rate'].hist()\n",
    "plt.title(\"Distribution of Personal Saving rate after handling outliers\")\n",
    "plt.xlabel(\"p_saving_rate\")\n",
    "plt.ylabel(\"Count\")\n",
    "plt.show()"
   ]
  },
  {
   "cell_type": "code",
   "execution_count": null,
   "id": "4b628cf1",
   "metadata": {},
   "outputs": [],
   "source": [
    "df_final['PPI_Concrete'].skew()"
   ]
  },
  {
   "cell_type": "code",
   "execution_count": null,
   "id": "6b709b30",
   "metadata": {},
   "outputs": [],
   "source": [
    "df_final['PPI_Concrete'] = np.log1p(df_final['PPI_Concrete'])"
   ]
  },
  {
   "cell_type": "code",
   "execution_count": null,
   "id": "0942affe",
   "metadata": {},
   "outputs": [],
   "source": [
    "df_final['PPI_Concrete'].hist()"
   ]
  },
  {
   "cell_type": "code",
   "execution_count": null,
   "id": "07e90b52",
   "metadata": {},
   "outputs": [],
   "source": [
    "plt.boxplot(df_final['PPI_Concrete'], vert=False)\n",
    "plt.xlabel('PPI_Concrete')\n",
    "plt.title('Box Plot of PPI_Concrete')\n",
    "plt.show()"
   ]
  },
  {
   "cell_type": "code",
   "execution_count": null,
   "id": "9553a795",
   "metadata": {},
   "outputs": [],
   "source": [
    "df_final['new_private_house'].skew()"
   ]
  },
  {
   "cell_type": "code",
   "execution_count": null,
   "id": "581cc2e8",
   "metadata": {},
   "outputs": [],
   "source": [
    "from scipy import stats\n",
    "\n",
    "transformed_data, lambda_value = stats.yeojohnson(df_final['new_private_house'])\n",
    "df_final['new_private_house'] = transformed_data"
   ]
  },
  {
   "cell_type": "code",
   "execution_count": null,
   "id": "8f5117f6",
   "metadata": {},
   "outputs": [],
   "source": [
    "plt.boxplot(df_final['new_private_house'], vert=False)\n",
    "plt.xlabel('new_private_house')\n",
    "plt.title('Box Plot of new_private_house')\n",
    "plt.show()"
   ]
  },
  {
   "cell_type": "code",
   "execution_count": null,
   "id": "b04c9ef3",
   "metadata": {},
   "outputs": [],
   "source": [
    "max_value = df_final['new_private_house'].max()\n",
    "\n",
    "df_final['new_private_house'] = np.where(df_final['new_private_house'] > max_value, max_value, df_final['new_private_house'])"
   ]
  },
  {
   "cell_type": "code",
   "execution_count": null,
   "id": "cebde822",
   "metadata": {},
   "outputs": [],
   "source": [
    "df_final['emratio'].skew()"
   ]
  },
  {
   "cell_type": "code",
   "execution_count": null,
   "id": "b0197a3b",
   "metadata": {},
   "outputs": [],
   "source": [
    "q1 = df_final[\"emratio\"].quantile(0.25)\n",
    "q2 = df_final[\"emratio\"].quantile(0.75)\n",
    "\n",
    "IQR =q2-q1"
   ]
  },
  {
   "cell_type": "code",
   "execution_count": null,
   "id": "fc48a09c",
   "metadata": {},
   "outputs": [],
   "source": [
    "lower_bridge=q1-(IQR*1.5)\n",
    "upper_bridge=q2+(IQR*1.5)\n",
    "print(lower_bridge), print(upper_bridge)"
   ]
  },
  {
   "cell_type": "code",
   "execution_count": null,
   "id": "3cca661e",
   "metadata": {},
   "outputs": [],
   "source": [
    "df_final.loc[df_final['emratio'] <=lower_bridge,'emratio'] = lower_bridge"
   ]
  },
  {
   "cell_type": "code",
   "execution_count": null,
   "id": "c48827e9",
   "metadata": {},
   "outputs": [],
   "source": [
    "plt.boxplot(df_final['emratio'], vert=False)\n",
    "plt.xlabel('emratio')\n",
    "plt.title('Box Plot of emratio')\n",
    "plt.show()"
   ]
  },
  {
   "cell_type": "code",
   "execution_count": null,
   "id": "4679d8d8",
   "metadata": {},
   "outputs": [],
   "source": [
    "df_final['new_private_hw_under'].skew()"
   ]
  },
  {
   "cell_type": "code",
   "execution_count": null,
   "id": "13a537f9",
   "metadata": {},
   "outputs": [],
   "source": [
    "q1 = df_final[\"new_private_hw_under\"].quantile(0.25)\n",
    "q2 = df_final[\"new_private_hw_under\"].quantile(0.75)\n",
    "\n",
    "IQR =q2-q1"
   ]
  },
  {
   "cell_type": "code",
   "execution_count": null,
   "id": "d3440878",
   "metadata": {},
   "outputs": [],
   "source": [
    "lower_bridge=q1-(IQR*1.5)\n",
    "upper_bridge=q2+(IQR*1.5)\n",
    "print(lower_bridge), print(upper_bridge)"
   ]
  },
  {
   "cell_type": "code",
   "execution_count": null,
   "id": "d42767ce",
   "metadata": {},
   "outputs": [],
   "source": [
    "df_final.loc[df_final['new_private_hw_under'] >=upper_bridge,'new_private_hw_under'] = upper_bridge"
   ]
  },
  {
   "cell_type": "code",
   "execution_count": null,
   "id": "fbb91b2d",
   "metadata": {},
   "outputs": [],
   "source": [
    "plt.boxplot(df_final['new_private_hw_under'], vert=False)\n",
    "plt.xlabel('new_private_hw_under')\n",
    "plt.title('Box Plot of new_private_hw_under')\n",
    "plt.show()"
   ]
  },
  {
   "cell_type": "code",
   "execution_count": null,
   "id": "a7068ca2",
   "metadata": {},
   "outputs": [],
   "source": [
    "df_final['monthly_supply'].skew()"
   ]
  },
  {
   "cell_type": "code",
   "execution_count": null,
   "id": "27d67cc0",
   "metadata": {},
   "outputs": [],
   "source": [
    "q1 = df_final[\"monthly_supply].quantile(0.25)\n",
    "q2 = df_final[\"monthly_supply\"].quantile(0.75)\n",
    "\n",
    "IQR =q2-q1"
   ]
  },
  {
   "cell_type": "code",
   "execution_count": null,
   "id": "21c4becc",
   "metadata": {},
   "outputs": [],
   "source": [
    "lower_bridge=q1-(IQR*1.5)\n",
    "upper_bridge=q2+(IQR*1.5)\n",
    "print(lower_bridge), print(upper_bridge)"
   ]
  },
  {
   "cell_type": "code",
   "execution_count": null,
   "id": "4d3f995a",
   "metadata": {},
   "outputs": [],
   "source": [
    "df_final.loc[df_final['monthly_supply'] >=upper_bridge,'monthly_supply'] = upper_bridge"
   ]
  },
  {
   "cell_type": "code",
   "execution_count": null,
   "id": "89f8d1fa",
   "metadata": {},
   "outputs": [],
   "source": [
    "df_final['monthly_supply'].hist()"
   ]
  },
  {
   "cell_type": "code",
   "execution_count": null,
   "id": "4228d391",
   "metadata": {},
   "outputs": [],
   "source": [
    "df_final['unemplyed_rate'].skew()"
   ]
  },
  {
   "cell_type": "code",
   "execution_count": null,
   "id": "95a639eb",
   "metadata": {},
   "outputs": [],
   "source": [
    "q1 = df_final[\"unemployed_rate\"].quantile(0.25)\n",
    "q2 = df_final[\"unemployed_rate\"].quantile(0.75)\n",
    "\n",
    "IQR =q2-q1"
   ]
  },
  {
   "cell_type": "code",
   "execution_count": null,
   "id": "98a62cc9",
   "metadata": {},
   "outputs": [],
   "source": [
    "lower_bridge=q1-(IQR*1.5)\n",
    "upper_bridge=q2+(IQR*1.5)\n",
    "print(lower_bridge), print(upper_bridge)"
   ]
  },
  {
   "cell_type": "code",
   "execution_count": null,
   "id": "80fc3a7f",
   "metadata": {},
   "outputs": [],
   "source": [
    "df_final.loc[df_final['unemployed_rate'] >=upper_bridge,'unemployed_rate'] = upper_bridge"
   ]
  },
  {
   "cell_type": "code",
   "execution_count": null,
   "id": "24e00efe",
   "metadata": {},
   "outputs": [],
   "source": [
    "plt.boxplot(df_final['unemployed_rate'], vert=False)\n",
    "plt.xlabel('unemployed_rate')\n",
    "plt.title('Box Plot of unemployed_rate')\n",
    "plt.show()"
   ]
  },
  {
   "cell_type": "code",
   "execution_count": null,
   "id": "faf5eabf",
   "metadata": {},
   "outputs": [],
   "source": [
    "corr_matrix= df_final.corr()\n",
    "corr_matrix['target'].sort_values(ascending=False)"
   ]
  },
  {
   "cell_type": "code",
   "execution_count": null,
   "id": "4ffc23c2",
   "metadata": {},
   "outputs": [],
   "source": [
    "from statsmodels.stats.outliers_influence import variance_inflation_factor\n",
    "\n",
    "vif_data = pd.DataFrame()\n",
    "vif_data[\"feature\"] = df_final.columns\n",
    "\n",
    "vif_data[\"VIF\"] = [variance_inflation_factor(df_final.values, i)\n",
    "                          for i in range(len(df_final.columns))]\n",
    "\n",
    "print(vif_data)"
   ]
  },
  {
   "cell_type": "code",
   "execution_count": null,
   "id": "5fef8f06",
   "metadata": {},
   "outputs": [],
   "source": [
    "df_final.to_csv(\"df_final.csv\")"
   ]
  }
 ],
 "metadata": {
  "kernelspec": {
   "display_name": "Python 3 (ipykernel)",
   "language": "python",
   "name": "python3"
  },
  "language_info": {
   "codemirror_mode": {
    "name": "ipython",
    "version": 3
   },
   "file_extension": ".py",
   "mimetype": "text/x-python",
   "name": "python",
   "nbconvert_exporter": "python",
   "pygments_lexer": "ipython3",
   "version": "3.9.12"
  }
 },
 "nbformat": 4,
 "nbformat_minor": 5
}
